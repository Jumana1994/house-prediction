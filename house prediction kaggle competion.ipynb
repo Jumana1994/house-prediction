{
 "cells": [
  {
   "cell_type": "markdown",
   "id": "00598113-1966-4d47-8dbc-63a824d91008",
   "metadata": {},
   "source": [
    "kaggle competition for house price prediction\n"
   ]
  },
  {
   "cell_type": "code",
   "execution_count": 1,
   "id": "09ca52f2-f454-4ca6-bbbe-51ee5dc6645a",
   "metadata": {},
   "outputs": [],
   "source": [
    "import sklearn\n",
    "import pandas as pd\n",
    "import numpy as np\n",
    "import matplotlib.pyplot as plt\n",
    "import seaborn as sns"
   ]
  },
  {
   "cell_type": "code",
   "execution_count": 2,
   "id": "fd83b450-ef33-42b0-bcf9-87911d0e9039",
   "metadata": {},
   "outputs": [],
   "source": [
    "df=pd.read_csv(\"housepricetrain.csv\")"
   ]
  },
  {
   "cell_type": "code",
   "execution_count": 3,
   "id": "6ffd48da-0ab6-46be-b224-dc231a52c1ae",
   "metadata": {},
   "outputs": [
    {
     "data": {
      "text/html": [
       "<div>\n",
       "<style scoped>\n",
       "    .dataframe tbody tr th:only-of-type {\n",
       "        vertical-align: middle;\n",
       "    }\n",
       "\n",
       "    .dataframe tbody tr th {\n",
       "        vertical-align: top;\n",
       "    }\n",
       "\n",
       "    .dataframe thead th {\n",
       "        text-align: right;\n",
       "    }\n",
       "</style>\n",
       "<table border=\"1\" class=\"dataframe\">\n",
       "  <thead>\n",
       "    <tr style=\"text-align: right;\">\n",
       "      <th></th>\n",
       "      <th>Id</th>\n",
       "      <th>MSSubClass</th>\n",
       "      <th>MSZoning</th>\n",
       "      <th>LotFrontage</th>\n",
       "      <th>LotArea</th>\n",
       "      <th>Street</th>\n",
       "      <th>Alley</th>\n",
       "      <th>LotShape</th>\n",
       "      <th>LandContour</th>\n",
       "      <th>Utilities</th>\n",
       "      <th>...</th>\n",
       "      <th>PoolArea</th>\n",
       "      <th>PoolQC</th>\n",
       "      <th>Fence</th>\n",
       "      <th>MiscFeature</th>\n",
       "      <th>MiscVal</th>\n",
       "      <th>MoSold</th>\n",
       "      <th>YrSold</th>\n",
       "      <th>SaleType</th>\n",
       "      <th>SaleCondition</th>\n",
       "      <th>SalePrice</th>\n",
       "    </tr>\n",
       "  </thead>\n",
       "  <tbody>\n",
       "    <tr>\n",
       "      <th>0</th>\n",
       "      <td>1</td>\n",
       "      <td>60</td>\n",
       "      <td>RL</td>\n",
       "      <td>65.0</td>\n",
       "      <td>8450</td>\n",
       "      <td>Pave</td>\n",
       "      <td>NaN</td>\n",
       "      <td>Reg</td>\n",
       "      <td>Lvl</td>\n",
       "      <td>AllPub</td>\n",
       "      <td>...</td>\n",
       "      <td>0</td>\n",
       "      <td>NaN</td>\n",
       "      <td>NaN</td>\n",
       "      <td>NaN</td>\n",
       "      <td>0</td>\n",
       "      <td>2</td>\n",
       "      <td>2008</td>\n",
       "      <td>WD</td>\n",
       "      <td>Normal</td>\n",
       "      <td>208500</td>\n",
       "    </tr>\n",
       "    <tr>\n",
       "      <th>1</th>\n",
       "      <td>2</td>\n",
       "      <td>20</td>\n",
       "      <td>RL</td>\n",
       "      <td>80.0</td>\n",
       "      <td>9600</td>\n",
       "      <td>Pave</td>\n",
       "      <td>NaN</td>\n",
       "      <td>Reg</td>\n",
       "      <td>Lvl</td>\n",
       "      <td>AllPub</td>\n",
       "      <td>...</td>\n",
       "      <td>0</td>\n",
       "      <td>NaN</td>\n",
       "      <td>NaN</td>\n",
       "      <td>NaN</td>\n",
       "      <td>0</td>\n",
       "      <td>5</td>\n",
       "      <td>2007</td>\n",
       "      <td>WD</td>\n",
       "      <td>Normal</td>\n",
       "      <td>181500</td>\n",
       "    </tr>\n",
       "    <tr>\n",
       "      <th>2</th>\n",
       "      <td>3</td>\n",
       "      <td>60</td>\n",
       "      <td>RL</td>\n",
       "      <td>68.0</td>\n",
       "      <td>11250</td>\n",
       "      <td>Pave</td>\n",
       "      <td>NaN</td>\n",
       "      <td>IR1</td>\n",
       "      <td>Lvl</td>\n",
       "      <td>AllPub</td>\n",
       "      <td>...</td>\n",
       "      <td>0</td>\n",
       "      <td>NaN</td>\n",
       "      <td>NaN</td>\n",
       "      <td>NaN</td>\n",
       "      <td>0</td>\n",
       "      <td>9</td>\n",
       "      <td>2008</td>\n",
       "      <td>WD</td>\n",
       "      <td>Normal</td>\n",
       "      <td>223500</td>\n",
       "    </tr>\n",
       "    <tr>\n",
       "      <th>3</th>\n",
       "      <td>4</td>\n",
       "      <td>70</td>\n",
       "      <td>RL</td>\n",
       "      <td>60.0</td>\n",
       "      <td>9550</td>\n",
       "      <td>Pave</td>\n",
       "      <td>NaN</td>\n",
       "      <td>IR1</td>\n",
       "      <td>Lvl</td>\n",
       "      <td>AllPub</td>\n",
       "      <td>...</td>\n",
       "      <td>0</td>\n",
       "      <td>NaN</td>\n",
       "      <td>NaN</td>\n",
       "      <td>NaN</td>\n",
       "      <td>0</td>\n",
       "      <td>2</td>\n",
       "      <td>2006</td>\n",
       "      <td>WD</td>\n",
       "      <td>Abnorml</td>\n",
       "      <td>140000</td>\n",
       "    </tr>\n",
       "    <tr>\n",
       "      <th>4</th>\n",
       "      <td>5</td>\n",
       "      <td>60</td>\n",
       "      <td>RL</td>\n",
       "      <td>84.0</td>\n",
       "      <td>14260</td>\n",
       "      <td>Pave</td>\n",
       "      <td>NaN</td>\n",
       "      <td>IR1</td>\n",
       "      <td>Lvl</td>\n",
       "      <td>AllPub</td>\n",
       "      <td>...</td>\n",
       "      <td>0</td>\n",
       "      <td>NaN</td>\n",
       "      <td>NaN</td>\n",
       "      <td>NaN</td>\n",
       "      <td>0</td>\n",
       "      <td>12</td>\n",
       "      <td>2008</td>\n",
       "      <td>WD</td>\n",
       "      <td>Normal</td>\n",
       "      <td>250000</td>\n",
       "    </tr>\n",
       "  </tbody>\n",
       "</table>\n",
       "<p>5 rows × 81 columns</p>\n",
       "</div>"
      ],
      "text/plain": [
       "   Id  MSSubClass MSZoning  LotFrontage  LotArea Street Alley LotShape  \\\n",
       "0   1          60       RL         65.0     8450   Pave   NaN      Reg   \n",
       "1   2          20       RL         80.0     9600   Pave   NaN      Reg   \n",
       "2   3          60       RL         68.0    11250   Pave   NaN      IR1   \n",
       "3   4          70       RL         60.0     9550   Pave   NaN      IR1   \n",
       "4   5          60       RL         84.0    14260   Pave   NaN      IR1   \n",
       "\n",
       "  LandContour Utilities  ... PoolArea PoolQC Fence MiscFeature MiscVal MoSold  \\\n",
       "0         Lvl    AllPub  ...        0    NaN   NaN         NaN       0      2   \n",
       "1         Lvl    AllPub  ...        0    NaN   NaN         NaN       0      5   \n",
       "2         Lvl    AllPub  ...        0    NaN   NaN         NaN       0      9   \n",
       "3         Lvl    AllPub  ...        0    NaN   NaN         NaN       0      2   \n",
       "4         Lvl    AllPub  ...        0    NaN   NaN         NaN       0     12   \n",
       "\n",
       "  YrSold  SaleType  SaleCondition  SalePrice  \n",
       "0   2008        WD         Normal     208500  \n",
       "1   2007        WD         Normal     181500  \n",
       "2   2008        WD         Normal     223500  \n",
       "3   2006        WD        Abnorml     140000  \n",
       "4   2008        WD         Normal     250000  \n",
       "\n",
       "[5 rows x 81 columns]"
      ]
     },
     "execution_count": 3,
     "metadata": {},
     "output_type": "execute_result"
    }
   ],
   "source": [
    "df.head()"
   ]
  },
  {
   "cell_type": "code",
   "execution_count": 4,
   "id": "d6ab586d-b093-4aa3-8339-0d8435aa1e83",
   "metadata": {},
   "outputs": [],
   "source": [
    "# sns.countplot(x=\"SalePrice\",data=df)\n",
    "# plt.show()"
   ]
  },
  {
   "cell_type": "code",
   "execution_count": 5,
   "id": "20219179-06d4-48f8-8364-e536b0fc66f3",
   "metadata": {},
   "outputs": [
    {
     "data": {
      "text/plain": [
       "(1460, 81)"
      ]
     },
     "execution_count": 5,
     "metadata": {},
     "output_type": "execute_result"
    }
   ],
   "source": [
    "df.shape"
   ]
  },
  {
   "cell_type": "code",
   "execution_count": 6,
   "id": "7cb823f7-3574-4b18-80a9-efc96b3cdd14",
   "metadata": {},
   "outputs": [
    {
     "data": {
      "text/plain": [
       "Id                 0\n",
       "MSSubClass         0\n",
       "MSZoning           0\n",
       "LotFrontage      259\n",
       "LotArea            0\n",
       "                ... \n",
       "MoSold             0\n",
       "YrSold             0\n",
       "SaleType           0\n",
       "SaleCondition      0\n",
       "SalePrice          0\n",
       "Length: 81, dtype: int64"
      ]
     },
     "execution_count": 6,
     "metadata": {},
     "output_type": "execute_result"
    }
   ],
   "source": [
    "df.isnull().sum()"
   ]
  },
  {
   "cell_type": "code",
   "execution_count": 7,
   "id": "4e1919ab-fe8f-44b1-9121-74b8d5d1db5c",
   "metadata": {},
   "outputs": [
    {
     "data": {
      "text/plain": [
       "259"
      ]
     },
     "execution_count": 7,
     "metadata": {},
     "output_type": "execute_result"
    }
   ],
   "source": [
    "df[\"LotFrontage\"].isnull().sum()"
   ]
  },
  {
   "cell_type": "code",
   "execution_count": 8,
   "id": "4c071aa4-3188-4e9a-bfb6-9981197fb05e",
   "metadata": {},
   "outputs": [],
   "source": [
    "df[\"LotFrontage\"]=df[\"LotFrontage\"].fillna(df[\"LotFrontage\"].mean())"
   ]
  },
  {
   "cell_type": "code",
   "execution_count": 9,
   "id": "c1006d4b-3c20-4abb-b170-f1dc5277b689",
   "metadata": {},
   "outputs": [
    {
     "data": {
      "text/plain": [
       "0"
      ]
     },
     "execution_count": 9,
     "metadata": {},
     "output_type": "execute_result"
    }
   ],
   "source": [
    "df[\"Street\"].isnull().sum()"
   ]
  },
  {
   "cell_type": "code",
   "execution_count": 10,
   "id": "cb922922-f71f-4620-a769-145d2c4528d3",
   "metadata": {},
   "outputs": [
    {
     "data": {
      "text/plain": [
       "0"
      ]
     },
     "execution_count": 10,
     "metadata": {},
     "output_type": "execute_result"
    }
   ],
   "source": [
    "df[\"Condition2\"].isnull().sum()"
   ]
  },
  {
   "cell_type": "code",
   "execution_count": 11,
   "id": "7325d905-ba4a-4aa8-850c-8dad0eeb3d9d",
   "metadata": {},
   "outputs": [
    {
     "data": {
      "text/plain": [
       "0"
      ]
     },
     "execution_count": 11,
     "metadata": {},
     "output_type": "execute_result"
    }
   ],
   "source": [
    "df[\"YearRemodAdd\"].isnull().sum()"
   ]
  },
  {
   "cell_type": "code",
   "execution_count": 12,
   "id": "b7872828-7f88-4f2a-8601-29c85f53b372",
   "metadata": {},
   "outputs": [
    {
     "data": {
      "text/plain": [
       "0"
      ]
     },
     "execution_count": 12,
     "metadata": {},
     "output_type": "execute_result"
    }
   ],
   "source": [
    "df[\"Utilities\"].isnull().sum()"
   ]
  },
  {
   "cell_type": "code",
   "execution_count": 13,
   "id": "5c7d2eff-1a63-480f-9290-e2e362f110c1",
   "metadata": {},
   "outputs": [
    {
     "data": {
      "text/plain": [
       "0"
      ]
     },
     "execution_count": 13,
     "metadata": {},
     "output_type": "execute_result"
    }
   ],
   "source": [
    "df[\"BldgType\"].isnull().sum()"
   ]
  },
  {
   "cell_type": "code",
   "execution_count": 14,
   "id": "abec1890-1482-4223-922f-d089246e34ae",
   "metadata": {},
   "outputs": [
    {
     "data": {
      "text/plain": [
       "0"
      ]
     },
     "execution_count": 14,
     "metadata": {},
     "output_type": "execute_result"
    }
   ],
   "source": [
    "df[\"RoofMatl\"].isnull().sum()"
   ]
  },
  {
   "cell_type": "code",
   "execution_count": 15,
   "id": "a9dfa3f1-59f6-472a-a2fc-74c999753aef",
   "metadata": {},
   "outputs": [
    {
     "data": {
      "text/plain": [
       "0"
      ]
     },
     "execution_count": 15,
     "metadata": {},
     "output_type": "execute_result"
    }
   ],
   "source": [
    "df[\"Exterior1st\"].isnull().sum()"
   ]
  },
  {
   "cell_type": "code",
   "execution_count": 16,
   "id": "c6c25104-0820-4025-8853-a7234b478738",
   "metadata": {},
   "outputs": [
    {
     "data": {
      "text/plain": [
       "8"
      ]
     },
     "execution_count": 16,
     "metadata": {},
     "output_type": "execute_result"
    }
   ],
   "source": [
    "df[\"MasVnrType\"].isnull().sum()"
   ]
  },
  {
   "cell_type": "code",
   "execution_count": 17,
   "id": "2e6732ab-8fb9-4844-865b-8da2e1494897",
   "metadata": {},
   "outputs": [],
   "source": [
    "df[\"MasVnrType\"]=df[\"MasVnrType\"].fillna(df[\"MasVnrType\"].mode()[0])"
   ]
  },
  {
   "cell_type": "code",
   "execution_count": 18,
   "id": "016c1f60-fcc8-4483-a449-d122fe60487f",
   "metadata": {},
   "outputs": [
    {
     "data": {
      "text/plain": [
       "8"
      ]
     },
     "execution_count": 18,
     "metadata": {},
     "output_type": "execute_result"
    }
   ],
   "source": [
    "df[\"MasVnrArea\"].isnull().sum()"
   ]
  },
  {
   "cell_type": "code",
   "execution_count": 19,
   "id": "266c106b-564f-46c3-9501-4daa153d4245",
   "metadata": {},
   "outputs": [],
   "source": [
    "df[\"MasVnrArea\"]=df[\"MasVnrArea\"].fillna(df[\"MasVnrArea\"].mode()[0])"
   ]
  },
  {
   "cell_type": "code",
   "execution_count": 20,
   "id": "0e08d6ab-e43e-45f1-87aa-b074dc63c7dd",
   "metadata": {},
   "outputs": [
    {
     "data": {
      "text/plain": [
       "37"
      ]
     },
     "execution_count": 20,
     "metadata": {},
     "output_type": "execute_result"
    }
   ],
   "source": [
    "df[\"BsmtCond\"].isnull().sum()"
   ]
  },
  {
   "cell_type": "code",
   "execution_count": 21,
   "id": "ed20b8aa-f264-4890-8370-6fa3ebed1225",
   "metadata": {},
   "outputs": [],
   "source": [
    "df[\"BsmtCond\"]=df[\"BsmtCond\"].fillna(df[\"BsmtCond\"].mode()[0])"
   ]
  },
  {
   "cell_type": "code",
   "execution_count": 22,
   "id": "bd702a4f-a2a4-4406-b061-3f18cd49ea96",
   "metadata": {},
   "outputs": [
    {
     "data": {
      "text/plain": [
       "37"
      ]
     },
     "execution_count": 22,
     "metadata": {},
     "output_type": "execute_result"
    }
   ],
   "source": [
    "df[\"BsmtQual\"].isnull().sum()"
   ]
  },
  {
   "cell_type": "code",
   "execution_count": 23,
   "id": "050303af-3ae6-40b8-ad48-99b5c92a9d94",
   "metadata": {},
   "outputs": [],
   "source": [
    "df[\"BsmtQual\"]=df[\"BsmtQual\"].fillna(df[\"BsmtQual\"].mode()[0])"
   ]
  },
  {
   "cell_type": "code",
   "execution_count": 24,
   "id": "777f56f3-739d-4f52-8099-737adb697922",
   "metadata": {},
   "outputs": [
    {
     "data": {
      "text/plain": [
       "38"
      ]
     },
     "execution_count": 24,
     "metadata": {},
     "output_type": "execute_result"
    }
   ],
   "source": [
    "df[\"BsmtExposure\"].isnull().sum()"
   ]
  },
  {
   "cell_type": "code",
   "execution_count": 25,
   "id": "7781df45-3696-4513-bd70-0a16a459b271",
   "metadata": {},
   "outputs": [],
   "source": [
    "df[\"BsmtExposure\"]=df[\"BsmtExposure\"].fillna(df[\"BsmtExposure\"].mode()[0])"
   ]
  },
  {
   "cell_type": "code",
   "execution_count": 26,
   "id": "f2fd3173-df10-4a72-94bc-70ec24a5a055",
   "metadata": {},
   "outputs": [
    {
     "data": {
      "text/plain": [
       "37"
      ]
     },
     "execution_count": 26,
     "metadata": {},
     "output_type": "execute_result"
    }
   ],
   "source": [
    "df[\"BsmtFinType1\"].isnull().sum()"
   ]
  },
  {
   "cell_type": "code",
   "execution_count": 27,
   "id": "7614eef5-fce9-4734-b97b-764325539882",
   "metadata": {},
   "outputs": [],
   "source": [
    "df[\"BsmtFinType1\"]=df[\"BsmtFinType1\"].fillna(df[\"BsmtFinType1\"].mode()[0])"
   ]
  },
  {
   "cell_type": "code",
   "execution_count": 28,
   "id": "0907c02d-1a95-4be2-9242-75a29f3cddcf",
   "metadata": {},
   "outputs": [
    {
     "data": {
      "text/plain": [
       "38"
      ]
     },
     "execution_count": 28,
     "metadata": {},
     "output_type": "execute_result"
    }
   ],
   "source": [
    "df[\"BsmtFinType2\"].isnull().sum()"
   ]
  },
  {
   "cell_type": "code",
   "execution_count": 29,
   "id": "beff4a3c-06b3-436d-8809-ad74a1c3c80d",
   "metadata": {},
   "outputs": [],
   "source": [
    "df[\"BsmtFinType2\"]=df[\"BsmtFinType2\"].fillna(df[\"BsmtFinType2\"].mode()[0])"
   ]
  },
  {
   "cell_type": "code",
   "execution_count": 30,
   "id": "3be5be2f-c745-49ef-8c03-08e479e2589f",
   "metadata": {},
   "outputs": [
    {
     "data": {
      "text/plain": [
       "1"
      ]
     },
     "execution_count": 30,
     "metadata": {},
     "output_type": "execute_result"
    }
   ],
   "source": [
    "df[\"Electrical\"].isnull().sum()"
   ]
  },
  {
   "cell_type": "code",
   "execution_count": 31,
   "id": "9d235100-9980-46ba-ac0e-9748b31bba2e",
   "metadata": {},
   "outputs": [],
   "source": [
    "df[\"Electrical\"]=df[\"Electrical\"].fillna(df[\"Electrical\"].mode()[0])"
   ]
  },
  {
   "cell_type": "code",
   "execution_count": 32,
   "id": "36cdca39-2ada-4487-8967-60b28e3176ae",
   "metadata": {},
   "outputs": [
    {
     "data": {
      "text/plain": [
       "690"
      ]
     },
     "execution_count": 32,
     "metadata": {},
     "output_type": "execute_result"
    }
   ],
   "source": [
    "df[\"FireplaceQu\"].isnull().sum()"
   ]
  },
  {
   "cell_type": "code",
   "execution_count": 33,
   "id": "5078e1a1-1620-4cc7-9db9-9f4dfc1edff5",
   "metadata": {},
   "outputs": [],
   "source": [
    "df[\"FireplaceQu\"]=df[\"FireplaceQu\"].fillna(df[\"FireplaceQu\"].mode()[0])"
   ]
  },
  {
   "cell_type": "code",
   "execution_count": 34,
   "id": "9811b95f-61cb-44b8-9a8b-612a9b423acd",
   "metadata": {},
   "outputs": [
    {
     "data": {
      "text/plain": [
       "81"
      ]
     },
     "execution_count": 34,
     "metadata": {},
     "output_type": "execute_result"
    }
   ],
   "source": [
    "df[\"GarageType\"].isnull().sum()"
   ]
  },
  {
   "cell_type": "code",
   "execution_count": 35,
   "id": "cc54bd6e-03da-45dd-afe8-fb9f03c77b8b",
   "metadata": {},
   "outputs": [],
   "source": [
    "df[\"GarageType\"]=df[\"GarageType\"].fillna(df[\"GarageType\"].mode()[0])"
   ]
  },
  {
   "cell_type": "code",
   "execution_count": 36,
   "id": "82b2d6a4-2336-4061-a802-182552630bc7",
   "metadata": {},
   "outputs": [
    {
     "data": {
      "text/plain": [
       "81"
      ]
     },
     "execution_count": 36,
     "metadata": {},
     "output_type": "execute_result"
    }
   ],
   "source": [
    "df[\"GarageFinish\"].isnull().sum()"
   ]
  },
  {
   "cell_type": "code",
   "execution_count": 37,
   "id": "87b77011-5d20-4cb1-bfaa-bc06a0566286",
   "metadata": {},
   "outputs": [],
   "source": [
    "df[\"GarageFinish\"]=df[\"GarageFinish\"].fillna(df[\"GarageFinish\"].mode()[0])"
   ]
  },
  {
   "cell_type": "code",
   "execution_count": 38,
   "id": "175bf966-fbd5-440d-b807-f426839f792c",
   "metadata": {},
   "outputs": [
    {
     "data": {
      "text/plain": [
       "81"
      ]
     },
     "execution_count": 38,
     "metadata": {},
     "output_type": "execute_result"
    }
   ],
   "source": [
    "df[\"GarageYrBlt\"].isnull().sum()"
   ]
  },
  {
   "cell_type": "code",
   "execution_count": 39,
   "id": "0b78cb48-fee9-4da5-8dfa-0c1f09cd3e2e",
   "metadata": {},
   "outputs": [],
   "source": [
    "df.drop([\"GarageYrBlt\"],axis=1,inplace=True)"
   ]
  },
  {
   "cell_type": "code",
   "execution_count": 40,
   "id": "4f0aad0f-b699-4a6c-a871-3d00ae14d4f5",
   "metadata": {},
   "outputs": [
    {
     "data": {
      "text/plain": [
       "81"
      ]
     },
     "execution_count": 40,
     "metadata": {},
     "output_type": "execute_result"
    }
   ],
   "source": [
    "df[\"GarageQual\"].isnull().sum()"
   ]
  },
  {
   "cell_type": "code",
   "execution_count": 41,
   "id": "d324bf21-6bd3-415b-be3b-4969768fef9c",
   "metadata": {},
   "outputs": [],
   "source": [
    "df[\"GarageQual\"]=df[\"GarageQual\"].fillna(df[\"GarageQual\"].mode()[0])"
   ]
  },
  {
   "cell_type": "code",
   "execution_count": 42,
   "id": "b4af3dfc-9ec6-4fff-a529-652da465be5f",
   "metadata": {},
   "outputs": [
    {
     "data": {
      "text/plain": [
       "81"
      ]
     },
     "execution_count": 42,
     "metadata": {},
     "output_type": "execute_result"
    }
   ],
   "source": [
    "df[\"GarageCond\"].isnull().sum()"
   ]
  },
  {
   "cell_type": "code",
   "execution_count": 43,
   "id": "dc1136e3-2370-46fa-b5fb-b176b9b8c576",
   "metadata": {},
   "outputs": [],
   "source": [
    "df[\"GarageCond\"]=df[\"GarageCond\"].fillna(df[\"GarageCond\"].mode()[0])"
   ]
  },
  {
   "cell_type": "code",
   "execution_count": 44,
   "id": "74ff503d-2a29-4660-9446-d786489b8b40",
   "metadata": {},
   "outputs": [
    {
     "data": {
      "text/plain": [
       "1453"
      ]
     },
     "execution_count": 44,
     "metadata": {},
     "output_type": "execute_result"
    }
   ],
   "source": [
    "df[\"PoolQC\"].isnull().sum()"
   ]
  },
  {
   "cell_type": "code",
   "execution_count": 45,
   "id": "2aa10283-149a-4168-ac73-62f37b8f1ff7",
   "metadata": {},
   "outputs": [
    {
     "data": {
      "text/plain": [
       "1179"
      ]
     },
     "execution_count": 45,
     "metadata": {},
     "output_type": "execute_result"
    }
   ],
   "source": [
    "df[\"Fence\"].isnull().sum()"
   ]
  },
  {
   "cell_type": "code",
   "execution_count": 46,
   "id": "59509c78-899a-41eb-b01d-32aefe9b231b",
   "metadata": {},
   "outputs": [
    {
     "data": {
      "text/plain": [
       "1406"
      ]
     },
     "execution_count": 46,
     "metadata": {},
     "output_type": "execute_result"
    }
   ],
   "source": [
    "df[\"MiscFeature\"].isnull().sum()"
   ]
  },
  {
   "cell_type": "code",
   "execution_count": 47,
   "id": "f7314e3e-c0c6-4082-8fa6-0bbdcee751dc",
   "metadata": {},
   "outputs": [
    {
     "data": {
      "text/plain": [
       "0"
      ]
     },
     "execution_count": 47,
     "metadata": {},
     "output_type": "execute_result"
    }
   ],
   "source": [
    "df[\"MiscVal\"].isnull().sum()"
   ]
  },
  {
   "cell_type": "code",
   "execution_count": null,
   "id": "4407a939-c9bb-495f-93a9-58ec7802b383",
   "metadata": {},
   "outputs": [],
   "source": []
  },
  {
   "cell_type": "code",
   "execution_count": 48,
   "id": "c60058a3-fcd3-4e9f-a50d-bc8cde6bf1aa",
   "metadata": {},
   "outputs": [
    {
     "data": {
      "text/plain": [
       "0"
      ]
     },
     "execution_count": 48,
     "metadata": {},
     "output_type": "execute_result"
    }
   ],
   "source": [
    "df[\"SalePrice\"].isnull().sum()"
   ]
  },
  {
   "cell_type": "code",
   "execution_count": 49,
   "id": "cf825398-26a4-4122-a472-3b69db319f4c",
   "metadata": {},
   "outputs": [
    {
     "data": {
      "text/plain": [
       "<AxesSubplot:>"
      ]
     },
     "execution_count": 49,
     "metadata": {},
     "output_type": "execute_result"
    },
    {
     "data": {
      "image/png": "[encoded data removed]",
      "text/plain": [
       "<Figure size 432x288 with 1 Axes>"
      ]
     },
     "metadata": {
      "needs_background": "light"
     },
     "output_type": "display_data"
    }
   ],
   "source": [
    "sns.heatmap(df.isnull(),yticklabels=False,cbar=False)"
   ]
  },
  {
   "cell_type": "code",
   "execution_count": 50,
   "id": "57725c25-b1ff-4581-bbca-0df236cf2222",
   "metadata": {},
   "outputs": [],
   "source": [
    "df.drop([\"Alley\",\"PoolQC\",\"Fence\",\"MiscFeature\"],axis=1,inplace=True)"
   ]
  },
  {
   "cell_type": "code",
   "execution_count": 51,
   "id": "aae5062f-bb53-4cfe-a0b2-9d327dabc217",
   "metadata": {},
   "outputs": [
    {
     "data": {
      "text/plain": [
       "<AxesSubplot:>"
      ]
     },
     "execution_count": 51,
     "metadata": {},
     "output_type": "execute_result"
    },
    {
     "data": {
      "image/png": "[encoded data removed]",
      "text/plain": [
       "<Figure size 432x288 with 1 Axes>"
      ]
     },
     "metadata": {
      "needs_background": "light"
     },
     "output_type": "display_data"
    }
   ],
   "source": [
    "sns.heatmap(df.isnull(),yticklabels=False,cbar=False)"
   ]
  },
  {
   "cell_type": "code",
   "execution_count": 52,
   "id": "8ce075bd-e169-47b6-8cc6-3168f2c27681",
   "metadata": {},
   "outputs": [],
   "source": [
    "df.dropna(inplace=True)"
   ]
  },
  {
   "cell_type": "code",
   "execution_count": 53,
   "id": "8542c272-52bb-4ce4-a845-1e91d1c39a16",
   "metadata": {},
   "outputs": [
    {
     "data": {
      "text/plain": [
       "(1460, 76)"
      ]
     },
     "execution_count": 53,
     "metadata": {},
     "output_type": "execute_result"
    }
   ],
   "source": [
    "df.shape"
   ]
  },
  {
   "cell_type": "code",
   "execution_count": 54,
   "id": "d5495adb-0303-4706-9c80-c7f1682789b3",
   "metadata": {},
   "outputs": [],
   "source": [
    "df.drop([\"Id\"],axis=1,inplace=True) "
   ]
  },
  {
   "cell_type": "code",
   "execution_count": 55,
   "id": "c5eacafd-f54c-4794-ab9b-f2c95dd824e4",
   "metadata": {},
   "outputs": [
    {
     "name": "stdout",
     "output_type": "stream",
     "text": [
      "<class 'pandas.core.frame.DataFrame'>\n",
      "RangeIndex: 1460 entries, 0 to 1459\n",
      "Data columns (total 75 columns):\n",
      " #   Column         Non-Null Count  Dtype  \n",
      "---  ------         --------------  -----  \n",
      " 0   MSSubClass     1460 non-null   int64  \n",
      " 1   MSZoning       1460 non-null   object \n",
      " 2   LotFrontage    1460 non-null   float64\n",
      " 3   LotArea        1460 non-null   int64  \n",
      " 4   Street         1460 non-null   object \n",
      " 5   LotShape       1460 non-null   object \n",
      " 6   LandContour    1460 non-null   object \n",
      " 7   Utilities      1460 non-null   object \n",
      " 8   LotConfig      1460 non-null   object \n",
      " 9   LandSlope      1460 non-null   object \n",
      " 10  Neighborhood   1460 non-null   object \n",
      " 11  Condition1     1460 non-null   object \n",
      " 12  Condition2     1460 non-null   object \n",
      " 13  BldgType       1460 non-null   object \n",
      " 14  HouseStyle     1460 non-null   object \n",
      " 15  OverallQual    1460 non-null   int64  \n",
      " 16  OverallCond    1460 non-null   int64  \n",
      " 17  YearBuilt      1460 non-null   int64  \n",
      " 18  YearRemodAdd   1460 non-null   int64  \n",
      " 19  RoofStyle      1460 non-null   object \n",
      " 20  RoofMatl       1460 non-null   object \n",
      " 21  Exterior1st    1460 non-null   object \n",
      " 22  Exterior2nd    1460 non-null   object \n",
      " 23  MasVnrType     1460 non-null   object \n",
      " 24  MasVnrArea     1460 non-null   float64\n",
      " 25  ExterQual      1460 non-null   object \n",
      " 26  ExterCond      1460 non-null   object \n",
      " 27  Foundation     1460 non-null   object \n",
      " 28  BsmtQual       1460 non-null   object \n",
      " 29  BsmtCond       1460 non-null   object \n",
      " 30  BsmtExposure   1460 non-null   object \n",
      " 31  BsmtFinType1   1460 non-null   object \n",
      " 32  BsmtFinSF1     1460 non-null   int64  \n",
      " 33  BsmtFinType2   1460 non-null   object \n",
      " 34  BsmtFinSF2     1460 non-null   int64  \n",
      " 35  BsmtUnfSF      1460 non-null   int64  \n",
      " 36  TotalBsmtSF    1460 non-null   int64  \n",
      " 37  Heating        1460 non-null   object \n",
      " 38  HeatingQC      1460 non-null   object \n",
      " 39  CentralAir     1460 non-null   object \n",
      " 40  Electrical     1460 non-null   object \n",
      " 41  1stFlrSF       1460 non-null   int64  \n",
      " 42  2ndFlrSF       1460 non-null   int64  \n",
      " 43  LowQualFinSF   1460 non-null   int64  \n",
      " 44  GrLivArea      1460 non-null   int64  \n",
      " 45  BsmtFullBath   1460 non-null   int64  \n",
      " 46  BsmtHalfBath   1460 non-null   int64  \n",
      " 47  FullBath       1460 non-null   int64  \n",
      " 48  HalfBath       1460 non-null   int64  \n",
      " 49  BedroomAbvGr   1460 non-null   int64  \n",
      " 50  KitchenAbvGr   1460 non-null   int64  \n",
      " 51  KitchenQual    1460 non-null   object \n",
      " 52  TotRmsAbvGrd   1460 non-null   int64  \n",
      " 53  Functional     1460 non-null   object \n",
      " 54  Fireplaces     1460 non-null   int64  \n",
      " 55  FireplaceQu    1460 non-null   object \n",
      " 56  GarageType     1460 non-null   object \n",
      " 57  GarageFinish   1460 non-null   object \n",
      " 58  GarageCars     1460 non-null   int64  \n",
      " 59  GarageArea     1460 non-null   int64  \n",
      " 60  GarageQual     1460 non-null   object \n",
      " 61  GarageCond     1460 non-null   object \n",
      " 62  PavedDrive     1460 non-null   object \n",
      " 63  WoodDeckSF     1460 non-null   int64  \n",
      " 64  OpenPorchSF    1460 non-null   int64  \n",
      " 65  EnclosedPorch  1460 non-null   int64  \n",
      " 66  3SsnPorch      1460 non-null   int64  \n",
      " 67  ScreenPorch    1460 non-null   int64  \n",
      " 68  PoolArea       1460 non-null   int64  \n",
      " 69  MiscVal        1460 non-null   int64  \n",
      " 70  MoSold         1460 non-null   int64  \n",
      " 71  YrSold         1460 non-null   int64  \n",
      " 72  SaleType       1460 non-null   object \n",
      " 73  SaleCondition  1460 non-null   object \n",
      " 74  SalePrice      1460 non-null   int64  \n",
      "dtypes: float64(2), int64(34), object(39)\n",
      "memory usage: 855.6+ KB\n"
     ]
    }
   ],
   "source": [
    "df.info()"
   ]
  },
  {
   "cell_type": "code",
   "execution_count": 56,
   "id": "59d9ab7d-a084-4e12-90c9-6b38f3ae37cf",
   "metadata": {},
   "outputs": [
    {
     "data": {
      "text/plain": [
       "(1460, 75)"
      ]
     },
     "execution_count": 56,
     "metadata": {},
     "output_type": "execute_result"
    }
   ],
   "source": [
    "df.shape"
   ]
  },
  {
   "cell_type": "code",
   "execution_count": 57,
   "id": "e35664f1-8acb-4311-ab60-a6cbc06538d6",
   "metadata": {},
   "outputs": [
    {
     "data": {
      "text/plain": [
       "RL         1151\n",
       "RM          218\n",
       "FV           65\n",
       "RH           16\n",
       "C (all)      10\n",
       "Name: MSZoning, dtype: int64"
      ]
     },
     "execution_count": 57,
     "metadata": {},
     "output_type": "execute_result"
    }
   ],
   "source": [
    "df[\"MSZoning\"].value_counts()"
   ]
  },
  {
   "cell_type": "markdown",
   "id": "aaa1a143-0841-4707-bf0f-c53834f2d7f5",
   "metadata": {},
   "source": [
    " WITH TEST DATA"
   ]
  },
  {
   "cell_type": "code",
   "execution_count": 58,
   "id": "f8895a45-0b7a-4545-9e29-9d36084df83a",
   "metadata": {},
   "outputs": [],
   "source": [
    "test_data=pd.read_csv(\"test.csv\")"
   ]
  },
  {
   "cell_type": "code",
   "execution_count": 59,
   "id": "98bd9419-31d9-423e-adbf-a1fc41fdb437",
   "metadata": {},
   "outputs": [
    {
     "data": {
      "text/html": [
       "<div>\n",
       "<style scoped>\n",
       "    .dataframe tbody tr th:only-of-type {\n",
       "        vertical-align: middle;\n",
       "    }\n",
       "\n",
       "    .dataframe tbody tr th {\n",
       "        vertical-align: top;\n",
       "    }\n",
       "\n",
       "    .dataframe thead th {\n",
       "        text-align: right;\n",
       "    }\n",
       "</style>\n",
       "<table border=\"1\" class=\"dataframe\">\n",
       "  <thead>\n",
       "    <tr style=\"text-align: right;\">\n",
       "      <th></th>\n",
       "      <th>Id</th>\n",
       "      <th>MSSubClass</th>\n",
       "      <th>MSZoning</th>\n",
       "      <th>LotFrontage</th>\n",
       "      <th>LotArea</th>\n",
       "      <th>Street</th>\n",
       "      <th>Alley</th>\n",
       "      <th>LotShape</th>\n",
       "      <th>LandContour</th>\n",
       "      <th>Utilities</th>\n",
       "      <th>...</th>\n",
       "      <th>ScreenPorch</th>\n",
       "      <th>PoolArea</th>\n",
       "      <th>PoolQC</th>\n",
       "      <th>Fence</th>\n",
       "      <th>MiscFeature</th>\n",
       "      <th>MiscVal</th>\n",
       "      <th>MoSold</th>\n",
       "      <th>YrSold</th>\n",
       "      <th>SaleType</th>\n",
       "      <th>SaleCondition</th>\n",
       "    </tr>\n",
       "  </thead>\n",
       "  <tbody>\n",
       "    <tr>\n",
       "      <th>0</th>\n",
       "      <td>1461</td>\n",
       "      <td>20</td>\n",
       "      <td>RH</td>\n",
       "      <td>80.0</td>\n",
       "      <td>11622</td>\n",
       "      <td>Pave</td>\n",
       "      <td>NaN</td>\n",
       "      <td>Reg</td>\n",
       "      <td>Lvl</td>\n",
       "      <td>AllPub</td>\n",
       "      <td>...</td>\n",
       "      <td>120</td>\n",
       "      <td>0</td>\n",
       "      <td>NaN</td>\n",
       "      <td>MnPrv</td>\n",
       "      <td>NaN</td>\n",
       "      <td>0</td>\n",
       "      <td>6</td>\n",
       "      <td>2010</td>\n",
       "      <td>WD</td>\n",
       "      <td>Normal</td>\n",
       "    </tr>\n",
       "    <tr>\n",
       "      <th>1</th>\n",
       "      <td>1462</td>\n",
       "      <td>20</td>\n",
       "      <td>RL</td>\n",
       "      <td>81.0</td>\n",
       "      <td>14267</td>\n",
       "      <td>Pave</td>\n",
       "      <td>NaN</td>\n",
       "      <td>IR1</td>\n",
       "      <td>Lvl</td>\n",
       "      <td>AllPub</td>\n",
       "      <td>...</td>\n",
       "      <td>0</td>\n",
       "      <td>0</td>\n",
       "      <td>NaN</td>\n",
       "      <td>NaN</td>\n",
       "      <td>Gar2</td>\n",
       "      <td>12500</td>\n",
       "      <td>6</td>\n",
       "      <td>2010</td>\n",
       "      <td>WD</td>\n",
       "      <td>Normal</td>\n",
       "    </tr>\n",
       "    <tr>\n",
       "      <th>2</th>\n",
       "      <td>1463</td>\n",
       "      <td>60</td>\n",
       "      <td>RL</td>\n",
       "      <td>74.0</td>\n",
       "      <td>13830</td>\n",
       "      <td>Pave</td>\n",
       "      <td>NaN</td>\n",
       "      <td>IR1</td>\n",
       "      <td>Lvl</td>\n",
       "      <td>AllPub</td>\n",
       "      <td>...</td>\n",
       "      <td>0</td>\n",
       "      <td>0</td>\n",
       "      <td>NaN</td>\n",
       "      <td>MnPrv</td>\n",
       "      <td>NaN</td>\n",
       "      <td>0</td>\n",
       "      <td>3</td>\n",
       "      <td>2010</td>\n",
       "      <td>WD</td>\n",
       "      <td>Normal</td>\n",
       "    </tr>\n",
       "    <tr>\n",
       "      <th>3</th>\n",
       "      <td>1464</td>\n",
       "      <td>60</td>\n",
       "      <td>RL</td>\n",
       "      <td>78.0</td>\n",
       "      <td>9978</td>\n",
       "      <td>Pave</td>\n",
       "      <td>NaN</td>\n",
       "      <td>IR1</td>\n",
       "      <td>Lvl</td>\n",
       "      <td>AllPub</td>\n",
       "      <td>...</td>\n",
       "      <td>0</td>\n",
       "      <td>0</td>\n",
       "      <td>NaN</td>\n",
       "      <td>NaN</td>\n",
       "      <td>NaN</td>\n",
       "      <td>0</td>\n",
       "      <td>6</td>\n",
       "      <td>2010</td>\n",
       "      <td>WD</td>\n",
       "      <td>Normal</td>\n",
       "    </tr>\n",
       "    <tr>\n",
       "      <th>4</th>\n",
       "      <td>1465</td>\n",
       "      <td>120</td>\n",
       "      <td>RL</td>\n",
       "      <td>43.0</td>\n",
       "      <td>5005</td>\n",
       "      <td>Pave</td>\n",
       "      <td>NaN</td>\n",
       "      <td>IR1</td>\n",
       "      <td>HLS</td>\n",
       "      <td>AllPub</td>\n",
       "      <td>...</td>\n",
       "      <td>144</td>\n",
       "      <td>0</td>\n",
       "      <td>NaN</td>\n",
       "      <td>NaN</td>\n",
       "      <td>NaN</td>\n",
       "      <td>0</td>\n",
       "      <td>1</td>\n",
       "      <td>2010</td>\n",
       "      <td>WD</td>\n",
       "      <td>Normal</td>\n",
       "    </tr>\n",
       "  </tbody>\n",
       "</table>\n",
       "<p>5 rows × 80 columns</p>\n",
       "</div>"
      ],
      "text/plain": [
       "     Id  MSSubClass MSZoning  LotFrontage  LotArea Street Alley LotShape  \\\n",
       "0  1461          20       RH         80.0    11622   Pave   NaN      Reg   \n",
       "1  1462          20       RL         81.0    14267   Pave   NaN      IR1   \n",
       "2  1463          60       RL         74.0    13830   Pave   NaN      IR1   \n",
       "3  1464          60       RL         78.0     9978   Pave   NaN      IR1   \n",
       "4  1465         120       RL         43.0     5005   Pave   NaN      IR1   \n",
       "\n",
       "  LandContour Utilities  ... ScreenPorch PoolArea PoolQC  Fence MiscFeature  \\\n",
       "0         Lvl    AllPub  ...         120        0    NaN  MnPrv         NaN   \n",
       "1         Lvl    AllPub  ...           0        0    NaN    NaN        Gar2   \n",
       "2         Lvl    AllPub  ...           0        0    NaN  MnPrv         NaN   \n",
       "3         Lvl    AllPub  ...           0        0    NaN    NaN         NaN   \n",
       "4         HLS    AllPub  ...         144        0    NaN    NaN         NaN   \n",
       "\n",
       "  MiscVal MoSold  YrSold  SaleType  SaleCondition  \n",
       "0       0      6    2010        WD         Normal  \n",
       "1   12500      6    2010        WD         Normal  \n",
       "2       0      3    2010        WD         Normal  \n",
       "3       0      6    2010        WD         Normal  \n",
       "4       0      1    2010        WD         Normal  \n",
       "\n",
       "[5 rows x 80 columns]"
      ]
     },
     "execution_count": 59,
     "metadata": {},
     "output_type": "execute_result"
    }
   ],
   "source": [
    "test_data.head()"
   ]
  },
  {
   "cell_type": "code",
   "execution_count": 60,
   "id": "332c67c0-b98f-4a8c-a940-b6f3a291f1f9",
   "metadata": {},
   "outputs": [
    {
     "data": {
      "text/plain": [
       "(1459, 80)"
      ]
     },
     "execution_count": 60,
     "metadata": {},
     "output_type": "execute_result"
    }
   ],
   "source": [
    "test_data.shape"
   ]
  },
  {
   "cell_type": "code",
   "execution_count": 61,
   "id": "b9b4ce25-4341-4511-ab39-f09ca76e4f45",
   "metadata": {},
   "outputs": [
    {
     "data": {
      "text/plain": [
       "Id                 0\n",
       "MSSubClass         0\n",
       "MSZoning           4\n",
       "LotFrontage      227\n",
       "LotArea            0\n",
       "                ... \n",
       "MiscVal            0\n",
       "MoSold             0\n",
       "YrSold             0\n",
       "SaleType           1\n",
       "SaleCondition      0\n",
       "Length: 80, dtype: int64"
      ]
     },
     "execution_count": 61,
     "metadata": {},
     "output_type": "execute_result"
    }
   ],
   "source": [
    "test_data.isnull().sum()"
   ]
  },
  {
   "cell_type": "code",
   "execution_count": 62,
   "id": "ab1fd05d-9225-4a13-9082-318732a86ae3",
   "metadata": {},
   "outputs": [
    {
     "name": "stdout",
     "output_type": "stream",
     "text": [
      "<class 'pandas.core.frame.DataFrame'>\n",
      "RangeIndex: 1459 entries, 0 to 1458\n",
      "Data columns (total 80 columns):\n",
      " #   Column         Non-Null Count  Dtype  \n",
      "---  ------         --------------  -----  \n",
      " 0   Id             1459 non-null   int64  \n",
      " 1   MSSubClass     1459 non-null   int64  \n",
      " 2   MSZoning       1455 non-null   object \n",
      " 3   LotFrontage    1232 non-null   float64\n",
      " 4   LotArea        1459 non-null   int64  \n",
      " 5   Street         1459 non-null   object \n",
      " 6   Alley          107 non-null    object \n",
      " 7   LotShape       1459 non-null   object \n",
      " 8   LandContour    1459 non-null   object \n",
      " 9   Utilities      1457 non-null   object \n",
      " 10  LotConfig      1459 non-null   object \n",
      " 11  LandSlope      1459 non-null   object \n",
      " 12  Neighborhood   1459 non-null   object \n",
      " 13  Condition1     1459 non-null   object \n",
      " 14  Condition2     1459 non-null   object \n",
      " 15  BldgType       1459 non-null   object \n",
      " 16  HouseStyle     1459 non-null   object \n",
      " 17  OverallQual    1459 non-null   int64  \n",
      " 18  OverallCond    1459 non-null   int64  \n",
      " 19  YearBuilt      1459 non-null   int64  \n",
      " 20  YearRemodAdd   1459 non-null   int64  \n",
      " 21  RoofStyle      1459 non-null   object \n",
      " 22  RoofMatl       1459 non-null   object \n",
      " 23  Exterior1st    1458 non-null   object \n",
      " 24  Exterior2nd    1458 non-null   object \n",
      " 25  MasVnrType     1443 non-null   object \n",
      " 26  MasVnrArea     1444 non-null   float64\n",
      " 27  ExterQual      1459 non-null   object \n",
      " 28  ExterCond      1459 non-null   object \n",
      " 29  Foundation     1459 non-null   object \n",
      " 30  BsmtQual       1415 non-null   object \n",
      " 31  BsmtCond       1414 non-null   object \n",
      " 32  BsmtExposure   1415 non-null   object \n",
      " 33  BsmtFinType1   1417 non-null   object \n",
      " 34  BsmtFinSF1     1458 non-null   float64\n",
      " 35  BsmtFinType2   1417 non-null   object \n",
      " 36  BsmtFinSF2     1458 non-null   float64\n",
      " 37  BsmtUnfSF      1458 non-null   float64\n",
      " 38  TotalBsmtSF    1458 non-null   float64\n",
      " 39  Heating        1459 non-null   object \n",
      " 40  HeatingQC      1459 non-null   object \n",
      " 41  CentralAir     1459 non-null   object \n",
      " 42  Electrical     1459 non-null   object \n",
      " 43  1stFlrSF       1459 non-null   int64  \n",
      " 44  2ndFlrSF       1459 non-null   int64  \n",
      " 45  LowQualFinSF   1459 non-null   int64  \n",
      " 46  GrLivArea      1459 non-null   int64  \n",
      " 47  BsmtFullBath   1457 non-null   float64\n",
      " 48  BsmtHalfBath   1457 non-null   float64\n",
      " 49  FullBath       1459 non-null   int64  \n",
      " 50  HalfBath       1459 non-null   int64  \n",
      " 51  BedroomAbvGr   1459 non-null   int64  \n",
      " 52  KitchenAbvGr   1459 non-null   int64  \n",
      " 53  KitchenQual    1458 non-null   object \n",
      " 54  TotRmsAbvGrd   1459 non-null   int64  \n",
      " 55  Functional     1457 non-null   object \n",
      " 56  Fireplaces     1459 non-null   int64  \n",
      " 57  FireplaceQu    729 non-null    object \n",
      " 58  GarageType     1383 non-null   object \n",
      " 59  GarageYrBlt    1381 non-null   float64\n",
      " 60  GarageFinish   1381 non-null   object \n",
      " 61  GarageCars     1458 non-null   float64\n",
      " 62  GarageArea     1458 non-null   float64\n",
      " 63  GarageQual     1381 non-null   object \n",
      " 64  GarageCond     1381 non-null   object \n",
      " 65  PavedDrive     1459 non-null   object \n",
      " 66  WoodDeckSF     1459 non-null   int64  \n",
      " 67  OpenPorchSF    1459 non-null   int64  \n",
      " 68  EnclosedPorch  1459 non-null   int64  \n",
      " 69  3SsnPorch      1459 non-null   int64  \n",
      " 70  ScreenPorch    1459 non-null   int64  \n",
      " 71  PoolArea       1459 non-null   int64  \n",
      " 72  PoolQC         3 non-null      object \n",
      " 73  Fence          290 non-null    object \n",
      " 74  MiscFeature    51 non-null     object \n",
      " 75  MiscVal        1459 non-null   int64  \n",
      " 76  MoSold         1459 non-null   int64  \n",
      " 77  YrSold         1459 non-null   int64  \n",
      " 78  SaleType       1458 non-null   object \n",
      " 79  SaleCondition  1459 non-null   object \n",
      "dtypes: float64(11), int64(26), object(43)\n",
      "memory usage: 912.0+ KB\n"
     ]
    }
   ],
   "source": [
    "test_data.info()"
   ]
  },
  {
   "cell_type": "code",
   "execution_count": 63,
   "id": "fcef0840-1a21-46d4-ab76-a73878cc3975",
   "metadata": {},
   "outputs": [
    {
     "data": {
      "text/plain": [
       "RL         1114\n",
       "RM          242\n",
       "FV           74\n",
       "C (all)      15\n",
       "RH           10\n",
       "Name: MSZoning, dtype: int64"
      ]
     },
     "execution_count": 63,
     "metadata": {},
     "output_type": "execute_result"
    }
   ],
   "source": [
    "test_data[\"MSZoning\"].value_counts()"
   ]
  },
  {
   "cell_type": "code",
   "execution_count": 64,
   "id": "c6b59d58-7dd0-4495-9d6c-0162f8b1a5f2",
   "metadata": {},
   "outputs": [
    {
     "data": {
      "text/plain": [
       "227"
      ]
     },
     "execution_count": 64,
     "metadata": {},
     "output_type": "execute_result"
    }
   ],
   "source": [
    "test_data[\"LotFrontage\"].isnull().sum()"
   ]
  },
  {
   "cell_type": "code",
   "execution_count": 65,
   "id": "a32f4862-faa3-4867-8446-6970a0c90333",
   "metadata": {},
   "outputs": [],
   "source": [
    "test_data[\"LotFrontage\"]=test_data[\"LotFrontage\"].fillna(df[\"LotFrontage\"].mean())"
   ]
  },
  {
   "cell_type": "code",
   "execution_count": 66,
   "id": "ab02333a-1e69-4cdd-b476-b3ba209cd27a",
   "metadata": {},
   "outputs": [
    {
     "data": {
      "text/plain": [
       "4"
      ]
     },
     "execution_count": 66,
     "metadata": {},
     "output_type": "execute_result"
    }
   ],
   "source": [
    "test_data[\"MSZoning\"].isnull().sum()"
   ]
  },
  {
   "cell_type": "code",
   "execution_count": 67,
   "id": "222006ca-7c39-4548-a26f-01ffd5a1dded",
   "metadata": {},
   "outputs": [],
   "source": [
    "test_data[\"MSZoning\"]=test_data[\"MSZoning\"].fillna(df[\"MSZoning\"].mode()[0])"
   ]
  },
  {
   "cell_type": "code",
   "execution_count": 68,
   "id": "39ddfe23-2504-4c44-80d5-eed2df07e5d4",
   "metadata": {},
   "outputs": [
    {
     "data": {
      "text/plain": [
       "(1459, 80)"
      ]
     },
     "execution_count": 68,
     "metadata": {},
     "output_type": "execute_result"
    }
   ],
   "source": [
    "test_data.shape"
   ]
  },
  {
   "cell_type": "code",
   "execution_count": 69,
   "id": "6d2aae26-5110-4a14-8119-5fccb6b4e3d9",
   "metadata": {},
   "outputs": [
    {
     "data": {
      "text/plain": [
       "<AxesSubplot:>"
      ]
     },
     "execution_count": 69,
     "metadata": {},
     "output_type": "execute_result"
    },
    {
     "data": {
      "image/png": "[encoded data removed]",
      "text/plain": [
       "<Figure size 432x288 with 1 Axes>"
      ]
     },
     "metadata": {
      "needs_background": "light"
     },
     "output_type": "display_data"
    }
   ],
   "source": [
    "sns.heatmap(test_data.isnull(),yticklabels=False,cbar=False)"
   ]
  },
  {
   "cell_type": "code",
   "execution_count": 70,
   "id": "02ab13e4-47c6-4344-b769-05ded7058841",
   "metadata": {},
   "outputs": [],
   "source": [
    "test_data.drop([\"Alley\",\"PoolQC\",\"Fence\",\"MiscFeature\"],axis=1,inplace=True)"
   ]
  },
  {
   "cell_type": "code",
   "execution_count": 71,
   "id": "9a004ed6-7b3c-4422-9b9b-f126f0cd40fa",
   "metadata": {},
   "outputs": [
    {
     "data": {
      "text/plain": [
       "(1459, 76)"
      ]
     },
     "execution_count": 71,
     "metadata": {},
     "output_type": "execute_result"
    }
   ],
   "source": [
    "test_data.shape"
   ]
  },
  {
   "cell_type": "code",
   "execution_count": 72,
   "id": "82bf2625-c47d-42e5-a052-23b526cd8986",
   "metadata": {},
   "outputs": [
    {
     "data": {
      "text/plain": [
       "16"
      ]
     },
     "execution_count": 72,
     "metadata": {},
     "output_type": "execute_result"
    }
   ],
   "source": [
    "test_data[\"MasVnrType\"].isnull().sum()"
   ]
  },
  {
   "cell_type": "code",
   "execution_count": 73,
   "id": "8077a0cb-60f8-43bb-b5cb-35753c7b4bca",
   "metadata": {},
   "outputs": [],
   "source": [
    "test_data[\"MasVnrType\"]=test_data[\"MasVnrType\"].fillna(test_data[\"MasVnrType\"].mode()[0])"
   ]
  },
  {
   "cell_type": "code",
   "execution_count": 74,
   "id": "5d76c3c3-5c9e-4456-bd08-7e3ef131d86c",
   "metadata": {},
   "outputs": [
    {
     "data": {
      "text/plain": [
       "15"
      ]
     },
     "execution_count": 74,
     "metadata": {},
     "output_type": "execute_result"
    }
   ],
   "source": [
    "test_data[\"MasVnrArea\"].isnull().sum()"
   ]
  },
  {
   "cell_type": "code",
   "execution_count": 75,
   "id": "d20cfdc5-7bcf-4c5e-b8f2-dbc9fb22dec9",
   "metadata": {},
   "outputs": [],
   "source": [
    "test_data[\"MasVnrArea\"]=test_data[\"MasVnrArea\"].fillna(test_data[\"MasVnrArea\"].mode()[0])"
   ]
  },
  {
   "cell_type": "code",
   "execution_count": 76,
   "id": "4b653209-9307-4d16-962f-8b3241d35395",
   "metadata": {},
   "outputs": [
    {
     "data": {
      "text/plain": [
       "45"
      ]
     },
     "execution_count": 76,
     "metadata": {},
     "output_type": "execute_result"
    }
   ],
   "source": [
    "test_data[\"BsmtCond\"].isnull().sum()"
   ]
  },
  {
   "cell_type": "code",
   "execution_count": 77,
   "id": "9d062727-00ea-4d03-8854-b785725cd596",
   "metadata": {},
   "outputs": [],
   "source": [
    "test_data[\"BsmtCond\"]=test_data[\"BsmtCond\"].fillna(test_data[\"BsmtCond\"].mode()[0])"
   ]
  },
  {
   "cell_type": "code",
   "execution_count": 78,
   "id": "485b2a0d-4a40-4dce-bf55-e5d37e72bf21",
   "metadata": {},
   "outputs": [
    {
     "data": {
      "text/plain": [
       "44"
      ]
     },
     "execution_count": 78,
     "metadata": {},
     "output_type": "execute_result"
    }
   ],
   "source": [
    "test_data[\"BsmtQual\"].isnull().sum()"
   ]
  },
  {
   "cell_type": "code",
   "execution_count": 79,
   "id": "b300eab3-d533-40b0-9ff9-b54f2a3552f0",
   "metadata": {},
   "outputs": [],
   "source": [
    "test_data[\"BsmtQual\"]=test_data[\"BsmtQual\"].fillna(test_data[\"BsmtQual\"].mode()[0])"
   ]
  },
  {
   "cell_type": "code",
   "execution_count": 80,
   "id": "33661520-1856-42db-9057-25ce444092da",
   "metadata": {},
   "outputs": [
    {
     "data": {
      "text/plain": [
       "44"
      ]
     },
     "execution_count": 80,
     "metadata": {},
     "output_type": "execute_result"
    }
   ],
   "source": [
    "test_data[\"BsmtExposure\"].isnull().sum()"
   ]
  },
  {
   "cell_type": "code",
   "execution_count": 81,
   "id": "045f20f7-95d5-4eb8-87fd-d993ab82425b",
   "metadata": {},
   "outputs": [],
   "source": [
    "test_data[\"BsmtExposure\"]=test_data[\"BsmtExposure\"].fillna(test_data[\"BsmtExposure\"].mode()[0])"
   ]
  },
  {
   "cell_type": "code",
   "execution_count": 82,
   "id": "c1f315fc-08b6-43a6-bae4-e87c76a74f48",
   "metadata": {},
   "outputs": [
    {
     "data": {
      "text/plain": [
       "42"
      ]
     },
     "execution_count": 82,
     "metadata": {},
     "output_type": "execute_result"
    }
   ],
   "source": [
    "test_data[\"BsmtFinType1\"].isnull().sum()"
   ]
  },
  {
   "cell_type": "code",
   "execution_count": 83,
   "id": "836d3fd3-1cac-41e8-8d44-fbaa8a445b20",
   "metadata": {},
   "outputs": [],
   "source": [
    "test_data[\"BsmtFinType1\"]=test_data[\"BsmtFinType1\"].fillna(test_data[\"BsmtFinType1\"].mode()[0])"
   ]
  },
  {
   "cell_type": "code",
   "execution_count": 84,
   "id": "5a26131f-2572-4c9d-ab63-f95edce76fd3",
   "metadata": {},
   "outputs": [
    {
     "data": {
      "text/plain": [
       "42"
      ]
     },
     "execution_count": 84,
     "metadata": {},
     "output_type": "execute_result"
    }
   ],
   "source": [
    "test_data[\"BsmtFinType2\"].isnull().sum()"
   ]
  },
  {
   "cell_type": "code",
   "execution_count": 85,
   "id": "e359a669-6f50-43de-be38-86fc4550a9a5",
   "metadata": {},
   "outputs": [],
   "source": [
    "test_data[\"BsmtFinType2\"]=test_data[\"BsmtFinType2\"].fillna(test_data[\"BsmtFinType2\"].mode()[0])"
   ]
  },
  {
   "cell_type": "code",
   "execution_count": 86,
   "id": "193388fd-85b2-4e32-8f7b-1a5352571307",
   "metadata": {},
   "outputs": [
    {
     "data": {
      "text/plain": [
       "0"
      ]
     },
     "execution_count": 86,
     "metadata": {},
     "output_type": "execute_result"
    }
   ],
   "source": [
    "test_data[\"Electrical\"].isnull().sum()"
   ]
  },
  {
   "cell_type": "code",
   "execution_count": 87,
   "id": "949e2705-659c-4579-a9b9-07eeca21fcff",
   "metadata": {},
   "outputs": [
    {
     "data": {
      "text/plain": [
       "2"
      ]
     },
     "execution_count": 87,
     "metadata": {},
     "output_type": "execute_result"
    }
   ],
   "source": [
    "test_data[\"Utilities\"].isnull().sum()"
   ]
  },
  {
   "cell_type": "code",
   "execution_count": 88,
   "id": "61f9dcfc-0fb0-49ed-a20e-863625128eb8",
   "metadata": {},
   "outputs": [],
   "source": [
    "test_data[\"Utilities\"]=test_data[\"Utilities\"].fillna(test_data[\"Utilities\"].mode()[0])"
   ]
  },
  {
   "cell_type": "code",
   "execution_count": 89,
   "id": "800050a1-ed66-415e-8540-0d9e784d7706",
   "metadata": {},
   "outputs": [
    {
     "data": {
      "text/plain": [
       "730"
      ]
     },
     "execution_count": 89,
     "metadata": {},
     "output_type": "execute_result"
    }
   ],
   "source": [
    "test_data[\"FireplaceQu\"].isnull().sum()"
   ]
  },
  {
   "cell_type": "code",
   "execution_count": 90,
   "id": "35c3261d-0e2d-482b-81bd-c1ec410eb826",
   "metadata": {},
   "outputs": [],
   "source": [
    "test_data[\"FireplaceQu\"]=test_data[\"FireplaceQu\"].fillna(test_data[\"FireplaceQu\"].mode()[0])"
   ]
  },
  {
   "cell_type": "code",
   "execution_count": 91,
   "id": "cf7f2071-90a8-43b3-b312-f2ce5aa87bf8",
   "metadata": {},
   "outputs": [
    {
     "data": {
      "text/plain": [
       "76"
      ]
     },
     "execution_count": 91,
     "metadata": {},
     "output_type": "execute_result"
    }
   ],
   "source": [
    "test_data[\"GarageType\"].isnull().sum()"
   ]
  },
  {
   "cell_type": "code",
   "execution_count": 92,
   "id": "4ae71b41-e682-4b3c-8575-ffa54dd8a09e",
   "metadata": {},
   "outputs": [],
   "source": [
    "test_data[\"GarageType\"]=test_data[\"GarageType\"].fillna(test_data[\"GarageType\"].mode()[0])"
   ]
  },
  {
   "cell_type": "code",
   "execution_count": 93,
   "id": "e87b3643-a32e-45c1-bec2-ae8514655eb0",
   "metadata": {},
   "outputs": [
    {
     "data": {
      "text/plain": [
       "78"
      ]
     },
     "execution_count": 93,
     "metadata": {},
     "output_type": "execute_result"
    }
   ],
   "source": [
    "test_data[\"GarageFinish\"].isnull().sum()"
   ]
  },
  {
   "cell_type": "code",
   "execution_count": 94,
   "id": "e9856779-b9ce-4554-8879-17a0e8476706",
   "metadata": {},
   "outputs": [],
   "source": [
    "test_data[\"GarageFinish\"]=df[\"GarageFinish\"].fillna(df[\"GarageFinish\"].mode()[0])"
   ]
  },
  {
   "cell_type": "code",
   "execution_count": 95,
   "id": "f0b3cc61-a62d-41c7-ac55-8cd1ee98429d",
   "metadata": {},
   "outputs": [
    {
     "data": {
      "text/plain": [
       "78"
      ]
     },
     "execution_count": 95,
     "metadata": {},
     "output_type": "execute_result"
    }
   ],
   "source": [
    "test_data[\"GarageYrBlt\"].isnull().sum()"
   ]
  },
  {
   "cell_type": "code",
   "execution_count": 96,
   "id": "938d1d52-aad1-41aa-8bc4-2c75ec0a4a1d",
   "metadata": {},
   "outputs": [],
   "source": [
    "test_data.drop([\"GarageYrBlt\"],axis=1,inplace=True)"
   ]
  },
  {
   "cell_type": "code",
   "execution_count": 97,
   "id": "854ac300-f0c2-455e-8f46-351407eb4329",
   "metadata": {},
   "outputs": [
    {
     "data": {
      "text/plain": [
       "1"
      ]
     },
     "execution_count": 97,
     "metadata": {},
     "output_type": "execute_result"
    }
   ],
   "source": [
    "test_data[\"GarageArea\"].isnull().sum()"
   ]
  },
  {
   "cell_type": "code",
   "execution_count": 98,
   "id": "c428ce64-458c-4927-ac37-b69da0854338",
   "metadata": {},
   "outputs": [],
   "source": [
    "test_data[\"GarageArea\"]=df[\"GarageArea\"].fillna(df[\"GarageArea\"].mode()[0])"
   ]
  },
  {
   "cell_type": "code",
   "execution_count": 99,
   "id": "67db60b4-cd7d-4f89-983c-3daf28e0c944",
   "metadata": {},
   "outputs": [
    {
     "data": {
      "text/plain": [
       "78"
      ]
     },
     "execution_count": 99,
     "metadata": {},
     "output_type": "execute_result"
    }
   ],
   "source": [
    "test_data[\"GarageQual\"].isnull().sum()"
   ]
  },
  {
   "cell_type": "code",
   "execution_count": 100,
   "id": "63461a73-8d89-467c-8a15-142ccde8fe1e",
   "metadata": {},
   "outputs": [],
   "source": [
    "test_data[\"GarageQual\"]=test_data[\"GarageQual\"].fillna(test_data[\"GarageQual\"].mode()[0])"
   ]
  },
  {
   "cell_type": "code",
   "execution_count": 101,
   "id": "6ad4e3d7-76d5-409c-96e0-71d791eca888",
   "metadata": {},
   "outputs": [
    {
     "data": {
      "text/plain": [
       "78"
      ]
     },
     "execution_count": 101,
     "metadata": {},
     "output_type": "execute_result"
    }
   ],
   "source": [
    "test_data[\"GarageCond\"].isnull().sum()"
   ]
  },
  {
   "cell_type": "code",
   "execution_count": 102,
   "id": "7063284c-192e-4c39-9942-d7b0f509ec6b",
   "metadata": {},
   "outputs": [],
   "source": [
    "test_data[\"GarageCond\"]=test_data[\"GarageCond\"].fillna(test_data[\"GarageCond\"].mode()[0])"
   ]
  },
  {
   "cell_type": "code",
   "execution_count": 103,
   "id": "64124075-a890-42e1-bda0-398b77106f60",
   "metadata": {},
   "outputs": [
    {
     "data": {
      "text/plain": [
       "1"
      ]
     },
     "execution_count": 103,
     "metadata": {},
     "output_type": "execute_result"
    }
   ],
   "source": [
    "test_data[\"Exterior1st\"].isnull().sum()"
   ]
  },
  {
   "cell_type": "code",
   "execution_count": 104,
   "id": "3a4dad6d-41e3-49a2-9c76-c1b5804ad78e",
   "metadata": {},
   "outputs": [],
   "source": [
    "test_data[\"Exterior1st\"]=test_data[\"Exterior1st\"].fillna(test_data[\"Exterior1st\"].mode()[0])"
   ]
  },
  {
   "cell_type": "code",
   "execution_count": 105,
   "id": "a2dbc99b-b941-40ba-8b85-fc28466f10c6",
   "metadata": {},
   "outputs": [
    {
     "data": {
      "text/plain": [
       "1"
      ]
     },
     "execution_count": 105,
     "metadata": {},
     "output_type": "execute_result"
    }
   ],
   "source": [
    "test_data[\"Exterior2nd\"].isnull().sum()"
   ]
  },
  {
   "cell_type": "code",
   "execution_count": 106,
   "id": "1dc27a82-6e86-41a8-bf9b-4f2f8c46870a",
   "metadata": {},
   "outputs": [],
   "source": [
    "test_data[\"Exterior2nd\"]=test_data[\"Exterior2nd\"].fillna(test_data[\"Exterior2nd\"].mode()[0])"
   ]
  },
  {
   "cell_type": "code",
   "execution_count": 107,
   "id": "1385796a-2174-491e-b3f5-864328d515e4",
   "metadata": {},
   "outputs": [
    {
     "data": {
      "text/plain": [
       "1"
      ]
     },
     "execution_count": 107,
     "metadata": {},
     "output_type": "execute_result"
    }
   ],
   "source": [
    "test_data[\"BsmtFinSF1\"].isnull().sum()"
   ]
  },
  {
   "cell_type": "code",
   "execution_count": 108,
   "id": "4db4314b-2c9b-465f-815b-4ea0f4425c2e",
   "metadata": {},
   "outputs": [],
   "source": [
    "test_data[\"BsmtFinSF1\"]=test_data[\"BsmtFinSF1\"].fillna(test_data[\"BsmtFinSF1\"].mode()[0])"
   ]
  },
  {
   "cell_type": "code",
   "execution_count": 109,
   "id": "e2d9ee5b-52f2-460d-8ad5-b2793e34e57c",
   "metadata": {},
   "outputs": [
    {
     "data": {
      "text/plain": [
       "1"
      ]
     },
     "execution_count": 109,
     "metadata": {},
     "output_type": "execute_result"
    }
   ],
   "source": [
    "test_data[\"BsmtFinSF2\"].isnull().sum()"
   ]
  },
  {
   "cell_type": "code",
   "execution_count": 110,
   "id": "6a4be65a-25d8-4de2-b780-3b42f73a992f",
   "metadata": {},
   "outputs": [],
   "source": [
    "test_data[\"BsmtFinSF2\"]=test_data[\"BsmtFinSF2\"].fillna(test_data[\"BsmtFinSF2\"].mode()[0])"
   ]
  },
  {
   "cell_type": "code",
   "execution_count": 111,
   "id": "ff78ba4d-11bd-4a02-be19-7103eb7ad8a5",
   "metadata": {},
   "outputs": [
    {
     "data": {
      "text/plain": [
       "1"
      ]
     },
     "execution_count": 111,
     "metadata": {},
     "output_type": "execute_result"
    }
   ],
   "source": [
    "test_data[\"BsmtUnfSF\"].isnull().sum()"
   ]
  },
  {
   "cell_type": "code",
   "execution_count": 112,
   "id": "2138e815-2933-4e2d-9977-bfc96f46b4cd",
   "metadata": {},
   "outputs": [],
   "source": [
    "test_data[\"BsmtUnfSF\"]=test_data[\"BsmtUnfSF\"].fillna(test_data[\"BsmtUnfSF\"].mode()[0])"
   ]
  },
  {
   "cell_type": "code",
   "execution_count": 113,
   "id": "f4c35cae-542a-4550-9fe0-81cada18b1c5",
   "metadata": {},
   "outputs": [
    {
     "data": {
      "text/plain": [
       "1"
      ]
     },
     "execution_count": 113,
     "metadata": {},
     "output_type": "execute_result"
    }
   ],
   "source": [
    "test_data[\"TotalBsmtSF\"].isnull().sum()"
   ]
  },
  {
   "cell_type": "code",
   "execution_count": 114,
   "id": "f21d4792-d268-4152-ac16-8320a5e007c2",
   "metadata": {},
   "outputs": [],
   "source": [
    "test_data[\"TotalBsmtSF\"]=test_data[\"TotalBsmtSF\"].fillna(test_data[\"TotalBsmtSF\"].mode()[0])"
   ]
  },
  {
   "cell_type": "code",
   "execution_count": 115,
   "id": "662a34d4-340b-4475-85d9-4d992bc01b5b",
   "metadata": {},
   "outputs": [
    {
     "data": {
      "text/plain": [
       "1"
      ]
     },
     "execution_count": 115,
     "metadata": {},
     "output_type": "execute_result"
    }
   ],
   "source": [
    "test_data[\"SaleType\"].isnull().sum()"
   ]
  },
  {
   "cell_type": "code",
   "execution_count": 116,
   "id": "8f1c0433-ba9f-4b38-98d4-57710f823cae",
   "metadata": {},
   "outputs": [],
   "source": [
    "test_data[\"SaleType\"]=test_data[\"SaleType\"].fillna(test_data[\"SaleType\"].mode()[0])"
   ]
  },
  {
   "cell_type": "code",
   "execution_count": 117,
   "id": "ba2f5209-9b0c-4d8b-9606-09b6d08144a0",
   "metadata": {},
   "outputs": [
    {
     "data": {
      "text/plain": [
       "2"
      ]
     },
     "execution_count": 117,
     "metadata": {},
     "output_type": "execute_result"
    }
   ],
   "source": [
    "test_data[\"BsmtFullBath\"].isnull().sum()"
   ]
  },
  {
   "cell_type": "code",
   "execution_count": 118,
   "id": "10c352e1-e9a0-4b61-8107-fbe58038aa8e",
   "metadata": {},
   "outputs": [],
   "source": [
    "test_data[\"BsmtFullBath\"]=test_data[\"BsmtFullBath\"].fillna(test_data[\"BsmtFullBath\"].mode()[0])"
   ]
  },
  {
   "cell_type": "code",
   "execution_count": 119,
   "id": "09bc5f21-7f76-4fff-84c4-f41b68653385",
   "metadata": {},
   "outputs": [
    {
     "data": {
      "text/plain": [
       "2"
      ]
     },
     "execution_count": 119,
     "metadata": {},
     "output_type": "execute_result"
    }
   ],
   "source": [
    "test_data[\"BsmtHalfBath\"].isnull().sum()"
   ]
  },
  {
   "cell_type": "code",
   "execution_count": 120,
   "id": "c20bcc1b-c44d-4129-9353-bdc446825b03",
   "metadata": {},
   "outputs": [],
   "source": [
    "test_data[\"BsmtHalfBath\"]=test_data[\"BsmtHalfBath\"].fillna(test_data[\"BsmtHalfBath\"].mode()[0])"
   ]
  },
  {
   "cell_type": "code",
   "execution_count": 121,
   "id": "18cabed8-506f-461b-bca0-3934ee3a0019",
   "metadata": {},
   "outputs": [
    {
     "data": {
      "text/plain": [
       "1"
      ]
     },
     "execution_count": 121,
     "metadata": {},
     "output_type": "execute_result"
    }
   ],
   "source": [
    "test_data[\"KitchenQual\"].isnull().sum()"
   ]
  },
  {
   "cell_type": "code",
   "execution_count": 122,
   "id": "513612b2-6857-4a43-a390-143b170c66e7",
   "metadata": {},
   "outputs": [],
   "source": [
    "test_data[\"KitchenQual\"]=test_data[\"KitchenQual\"].fillna(test_data[\"KitchenQual\"].mode()[0])"
   ]
  },
  {
   "cell_type": "code",
   "execution_count": 123,
   "id": "7af2b24c-281f-4cf3-bcc2-8e46f882e8dc",
   "metadata": {},
   "outputs": [
    {
     "data": {
      "text/plain": [
       "2"
      ]
     },
     "execution_count": 123,
     "metadata": {},
     "output_type": "execute_result"
    }
   ],
   "source": [
    "test_data[\"Functional\"].isnull().sum()"
   ]
  },
  {
   "cell_type": "code",
   "execution_count": 124,
   "id": "5ddbe058-8852-4590-a0ac-13d46c44cd43",
   "metadata": {},
   "outputs": [],
   "source": [
    "test_data[\"Functional\"]=test_data[\"Functional\"].fillna(test_data[\"Functional\"].mode()[0])"
   ]
  },
  {
   "cell_type": "code",
   "execution_count": 125,
   "id": "a2beaaca-9a8a-4732-b86e-7dd1eab802af",
   "metadata": {},
   "outputs": [
    {
     "data": {
      "text/plain": [
       "1"
      ]
     },
     "execution_count": 125,
     "metadata": {},
     "output_type": "execute_result"
    }
   ],
   "source": [
    "test_data[\"GarageCars\"].isnull().sum()"
   ]
  },
  {
   "cell_type": "code",
   "execution_count": 126,
   "id": "9bfba32a-ac92-4c59-a60e-521543c452c9",
   "metadata": {},
   "outputs": [],
   "source": [
    "test_data[\"GarageCars\"]=test_data[\"GarageCars\"].fillna(test_data[\"GarageCars\"].mode()[0])"
   ]
  },
  {
   "cell_type": "code",
   "execution_count": 127,
   "id": "2f518287-6865-4f35-81a1-8dedb3dc73b2",
   "metadata": {},
   "outputs": [
    {
     "data": {
      "text/plain": [
       "<AxesSubplot:>"
      ]
     },
     "execution_count": 127,
     "metadata": {},
     "output_type": "execute_result"
    },
    {
     "data": {
      "image/png": "[encoded data removed]",
      "text/plain": [
       "<Figure size 432x288 with 1 Axes>"
      ]
     },
     "metadata": {
      "needs_background": "light"
     },
     "output_type": "display_data"
    }
   ],
   "source": [
    "sns.heatmap(test_data.isnull(),yticklabels=False,cbar=False)"
   ]
  },
  {
   "cell_type": "code",
   "execution_count": 128,
   "id": "db931b60-2dd2-4353-bf78-0fa3cdac351d",
   "metadata": {},
   "outputs": [],
   "source": [
    "test_data.drop([\"Id\"],axis=1,inplace=True)"
   ]
  },
  {
   "cell_type": "code",
   "execution_count": 129,
   "id": "e988b508-9368-4c82-bbd4-9ea9d9561a6a",
   "metadata": {},
   "outputs": [
    {
     "name": "stdout",
     "output_type": "stream",
     "text": [
      "<class 'pandas.core.frame.DataFrame'>\n",
      "RangeIndex: 1459 entries, 0 to 1458\n",
      "Data columns (total 74 columns):\n",
      " #   Column         Non-Null Count  Dtype  \n",
      "---  ------         --------------  -----  \n",
      " 0   MSSubClass     1459 non-null   int64  \n",
      " 1   MSZoning       1459 non-null   object \n",
      " 2   LotFrontage    1459 non-null   float64\n",
      " 3   LotArea        1459 non-null   int64  \n",
      " 4   Street         1459 non-null   object \n",
      " 5   LotShape       1459 non-null   object \n",
      " 6   LandContour    1459 non-null   object \n",
      " 7   Utilities      1459 non-null   object \n",
      " 8   LotConfig      1459 non-null   object \n",
      " 9   LandSlope      1459 non-null   object \n",
      " 10  Neighborhood   1459 non-null   object \n",
      " 11  Condition1     1459 non-null   object \n",
      " 12  Condition2     1459 non-null   object \n",
      " 13  BldgType       1459 non-null   object \n",
      " 14  HouseStyle     1459 non-null   object \n",
      " 15  OverallQual    1459 non-null   int64  \n",
      " 16  OverallCond    1459 non-null   int64  \n",
      " 17  YearBuilt      1459 non-null   int64  \n",
      " 18  YearRemodAdd   1459 non-null   int64  \n",
      " 19  RoofStyle      1459 non-null   object \n",
      " 20  RoofMatl       1459 non-null   object \n",
      " 21  Exterior1st    1459 non-null   object \n",
      " 22  Exterior2nd    1459 non-null   object \n",
      " 23  MasVnrType     1459 non-null   object \n",
      " 24  MasVnrArea     1459 non-null   float64\n",
      " 25  ExterQual      1459 non-null   object \n",
      " 26  ExterCond      1459 non-null   object \n",
      " 27  Foundation     1459 non-null   object \n",
      " 28  BsmtQual       1459 non-null   object \n",
      " 29  BsmtCond       1459 non-null   object \n",
      " 30  BsmtExposure   1459 non-null   object \n",
      " 31  BsmtFinType1   1459 non-null   object \n",
      " 32  BsmtFinSF1     1459 non-null   float64\n",
      " 33  BsmtFinType2   1459 non-null   object \n",
      " 34  BsmtFinSF2     1459 non-null   float64\n",
      " 35  BsmtUnfSF      1459 non-null   float64\n",
      " 36  TotalBsmtSF    1459 non-null   float64\n",
      " 37  Heating        1459 non-null   object \n",
      " 38  HeatingQC      1459 non-null   object \n",
      " 39  CentralAir     1459 non-null   object \n",
      " 40  Electrical     1459 non-null   object \n",
      " 41  1stFlrSF       1459 non-null   int64  \n",
      " 42  2ndFlrSF       1459 non-null   int64  \n",
      " 43  LowQualFinSF   1459 non-null   int64  \n",
      " 44  GrLivArea      1459 non-null   int64  \n",
      " 45  BsmtFullBath   1459 non-null   float64\n",
      " 46  BsmtHalfBath   1459 non-null   float64\n",
      " 47  FullBath       1459 non-null   int64  \n",
      " 48  HalfBath       1459 non-null   int64  \n",
      " 49  BedroomAbvGr   1459 non-null   int64  \n",
      " 50  KitchenAbvGr   1459 non-null   int64  \n",
      " 51  KitchenQual    1459 non-null   object \n",
      " 52  TotRmsAbvGrd   1459 non-null   int64  \n",
      " 53  Functional     1459 non-null   object \n",
      " 54  Fireplaces     1459 non-null   int64  \n",
      " 55  FireplaceQu    1459 non-null   object \n",
      " 56  GarageType     1459 non-null   object \n",
      " 57  GarageFinish   1459 non-null   object \n",
      " 58  GarageCars     1459 non-null   float64\n",
      " 59  GarageArea     1459 non-null   int64  \n",
      " 60  GarageQual     1459 non-null   object \n",
      " 61  GarageCond     1459 non-null   object \n",
      " 62  PavedDrive     1459 non-null   object \n",
      " 63  WoodDeckSF     1459 non-null   int64  \n",
      " 64  OpenPorchSF    1459 non-null   int64  \n",
      " 65  EnclosedPorch  1459 non-null   int64  \n",
      " 66  3SsnPorch      1459 non-null   int64  \n",
      " 67  ScreenPorch    1459 non-null   int64  \n",
      " 68  PoolArea       1459 non-null   int64  \n",
      " 69  MiscVal        1459 non-null   int64  \n",
      " 70  MoSold         1459 non-null   int64  \n",
      " 71  YrSold         1459 non-null   int64  \n",
      " 72  SaleType       1459 non-null   object \n",
      " 73  SaleCondition  1459 non-null   object \n",
      "dtypes: float64(9), int64(26), object(39)\n",
      "memory usage: 843.6+ KB\n"
     ]
    }
   ],
   "source": [
    "test_data.info()"
   ]
  },
  {
   "cell_type": "code",
   "execution_count": 130,
   "id": "1ede2923-3d61-4293-8dd8-694ba2806d40",
   "metadata": {},
   "outputs": [
    {
     "data": {
      "text/plain": [
       "Index(['MSSubClass', 'MSZoning', 'LotFrontage', 'LotArea', 'Street',\n",
       "       'LotShape', 'LandContour', 'Utilities', 'LotConfig', 'LandSlope',\n",
       "       'Neighborhood', 'Condition1', 'Condition2', 'BldgType', 'HouseStyle',\n",
       "       'OverallQual', 'OverallCond', 'YearBuilt', 'YearRemodAdd', 'RoofStyle',\n",
       "       'RoofMatl', 'Exterior1st', 'Exterior2nd', 'MasVnrType', 'MasVnrArea',\n",
       "       'ExterQual', 'ExterCond', 'Foundation', 'BsmtQual', 'BsmtCond',\n",
       "       'BsmtExposure', 'BsmtFinType1', 'BsmtFinSF1', 'BsmtFinType2',\n",
       "       'BsmtFinSF2', 'BsmtUnfSF', 'TotalBsmtSF', 'Heating', 'HeatingQC',\n",
       "       'CentralAir', 'Electrical', '1stFlrSF', '2ndFlrSF', 'LowQualFinSF',\n",
       "       'GrLivArea', 'BsmtFullBath', 'BsmtHalfBath', 'FullBath', 'HalfBath',\n",
       "       'BedroomAbvGr', 'KitchenAbvGr', 'KitchenQual', 'TotRmsAbvGrd',\n",
       "       'Functional', 'Fireplaces', 'FireplaceQu', 'GarageType', 'GarageFinish',\n",
       "       'GarageCars', 'GarageArea', 'GarageQual', 'GarageCond', 'PavedDrive',\n",
       "       'WoodDeckSF', 'OpenPorchSF', 'EnclosedPorch', '3SsnPorch',\n",
       "       'ScreenPorch', 'PoolArea', 'MiscVal', 'MoSold', 'YrSold', 'SaleType',\n",
       "       'SaleCondition', 'SalePrice'],\n",
       "      dtype='object')"
      ]
     },
     "execution_count": 130,
     "metadata": {},
     "output_type": "execute_result"
    }
   ],
   "source": [
    "df.columns"
   ]
  },
  {
   "cell_type": "code",
   "execution_count": 131,
   "id": "c912d70b-52d3-4d02-a012-df35ad4a4641",
   "metadata": {},
   "outputs": [
    {
     "data": {
      "text/plain": [
       "(1459, 74)"
      ]
     },
     "execution_count": 131,
     "metadata": {},
     "output_type": "execute_result"
    }
   ],
   "source": [
    "test_data.shape"
   ]
  },
  {
   "cell_type": "code",
   "execution_count": 132,
   "id": "ac8d3649-b54a-4b41-9860-f5a73630627f",
   "metadata": {},
   "outputs": [],
   "source": [
    "test_data.to_csv(\"newtest.csv\",index=False)"
   ]
  },
  {
   "cell_type": "code",
   "execution_count": 133,
   "id": "64eae471-71d8-4dcd-94af-38a53ffd69e7",
   "metadata": {},
   "outputs": [],
   "source": [
    "columns=['MSZoning', 'Street',\n",
    "       'LotShape', 'LandContour', 'Utilities', 'LotConfig', 'LandSlope',\n",
    "       'Neighborhood', 'Condition1', 'Condition2', 'BldgType', 'HouseStyle',\n",
    "       'RoofStyle',\n",
    "       'RoofMatl', 'Exterior1st', 'Exterior2nd', 'MasVnrType',\n",
    "       'ExterQual', 'ExterCond', 'Foundation', 'BsmtQual', 'BsmtCond',\n",
    "       'BsmtExposure', 'BsmtFinType1', 'BsmtFinType2',\n",
    "       'Heating', 'HeatingQC',\n",
    "       'CentralAir', 'Electrical',\n",
    "       'KitchenQual',\n",
    "       'Functional', 'FireplaceQu', 'GarageType', 'GarageFinish',\n",
    "       'GarageQual', 'GarageCond', 'PavedDrive', 'SaleType',\n",
    "       'SaleCondition']"
   ]
  },
  {
   "cell_type": "code",
   "execution_count": 134,
   "id": "a82648db-5fc0-423d-93a2-b188b7c5b52c",
   "metadata": {},
   "outputs": [
    {
     "data": {
      "text/plain": [
       "39"
      ]
     },
     "execution_count": 134,
     "metadata": {},
     "output_type": "execute_result"
    }
   ],
   "source": [
    "len(columns)"
   ]
  },
  {
   "cell_type": "markdown",
   "id": "24c9c6e0-f279-4b1e-a24c-840ceb4052c1",
   "metadata": {},
   "source": [
    "handling catogorical features"
   ]
  },
  {
   "cell_type": "code",
   "execution_count": 135,
   "id": "024c7c61-3688-4ab7-9834-42826d3a5cb5",
   "metadata": {},
   "outputs": [],
   "source": [
    "def catogory_onehot_multicols(multcolumns):\n",
    "    df_final=final_df\n",
    "    i=0\n",
    "    for fields in multcolumns:\n",
    "        print(fields)\n",
    "        df1=pd.get_dummies(final_df[fields],drop_first=True)\n",
    "        \n",
    "        final_df.drop([fields],axis=1,inplace=True)\n",
    "        if i==0:\n",
    "            df_final=df1.copy()\n",
    "        else:\n",
    "            df_final=pd.concat([df_final,df1],axis=1)\n",
    "        i=i+1\n",
    "    df_final=pd.concat([final_df,df_final],axis=1)\n",
    "    return df_final\n",
    "            \n",
    "        "
   ]
  },
  {
   "cell_type": "code",
   "execution_count": 136,
   "id": "405b8f67-ca01-43cb-bad0-413f77ea694b",
   "metadata": {},
   "outputs": [],
   "source": [
    "main_df=df.copy()"
   ]
  },
  {
   "cell_type": "code",
   "execution_count": 137,
   "id": "f5ec2c62-6b65-43fc-a005-a31ac4ad81de",
   "metadata": {},
   "outputs": [],
   "source": [
    "test_datanew=pd.read_csv(\"newtest.csv\")"
   ]
  },
  {
   "cell_type": "code",
   "execution_count": 138,
   "id": "72a4fe16-6139-453c-b3e0-3f7ba55fdc12",
   "metadata": {},
   "outputs": [
    {
     "data": {
      "text/html": [
       "<div>\n",
       "<style scoped>\n",
       "    .dataframe tbody tr th:only-of-type {\n",
       "        vertical-align: middle;\n",
       "    }\n",
       "\n",
       "    .dataframe tbody tr th {\n",
       "        vertical-align: top;\n",
       "    }\n",
       "\n",
       "    .dataframe thead th {\n",
       "        text-align: right;\n",
       "    }\n",
       "</style>\n",
       "<table border=\"1\" class=\"dataframe\">\n",
       "  <thead>\n",
       "    <tr style=\"text-align: right;\">\n",
       "      <th></th>\n",
       "      <th>MSSubClass</th>\n",
       "      <th>MSZoning</th>\n",
       "      <th>LotFrontage</th>\n",
       "      <th>LotArea</th>\n",
       "      <th>Street</th>\n",
       "      <th>LotShape</th>\n",
       "      <th>LandContour</th>\n",
       "      <th>Utilities</th>\n",
       "      <th>LotConfig</th>\n",
       "      <th>LandSlope</th>\n",
       "      <th>...</th>\n",
       "      <th>OpenPorchSF</th>\n",
       "      <th>EnclosedPorch</th>\n",
       "      <th>3SsnPorch</th>\n",
       "      <th>ScreenPorch</th>\n",
       "      <th>PoolArea</th>\n",
       "      <th>MiscVal</th>\n",
       "      <th>MoSold</th>\n",
       "      <th>YrSold</th>\n",
       "      <th>SaleType</th>\n",
       "      <th>SaleCondition</th>\n",
       "    </tr>\n",
       "  </thead>\n",
       "  <tbody>\n",
       "    <tr>\n",
       "      <th>0</th>\n",
       "      <td>20</td>\n",
       "      <td>RH</td>\n",
       "      <td>80.0</td>\n",
       "      <td>11622</td>\n",
       "      <td>Pave</td>\n",
       "      <td>Reg</td>\n",
       "      <td>Lvl</td>\n",
       "      <td>AllPub</td>\n",
       "      <td>Inside</td>\n",
       "      <td>Gtl</td>\n",
       "      <td>...</td>\n",
       "      <td>0</td>\n",
       "      <td>0</td>\n",
       "      <td>0</td>\n",
       "      <td>120</td>\n",
       "      <td>0</td>\n",
       "      <td>0</td>\n",
       "      <td>6</td>\n",
       "      <td>2010</td>\n",
       "      <td>WD</td>\n",
       "      <td>Normal</td>\n",
       "    </tr>\n",
       "    <tr>\n",
       "      <th>1</th>\n",
       "      <td>20</td>\n",
       "      <td>RL</td>\n",
       "      <td>81.0</td>\n",
       "      <td>14267</td>\n",
       "      <td>Pave</td>\n",
       "      <td>IR1</td>\n",
       "      <td>Lvl</td>\n",
       "      <td>AllPub</td>\n",
       "      <td>Corner</td>\n",
       "      <td>Gtl</td>\n",
       "      <td>...</td>\n",
       "      <td>36</td>\n",
       "      <td>0</td>\n",
       "      <td>0</td>\n",
       "      <td>0</td>\n",
       "      <td>0</td>\n",
       "      <td>12500</td>\n",
       "      <td>6</td>\n",
       "      <td>2010</td>\n",
       "      <td>WD</td>\n",
       "      <td>Normal</td>\n",
       "    </tr>\n",
       "    <tr>\n",
       "      <th>2</th>\n",
       "      <td>60</td>\n",
       "      <td>RL</td>\n",
       "      <td>74.0</td>\n",
       "      <td>13830</td>\n",
       "      <td>Pave</td>\n",
       "      <td>IR1</td>\n",
       "      <td>Lvl</td>\n",
       "      <td>AllPub</td>\n",
       "      <td>Inside</td>\n",
       "      <td>Gtl</td>\n",
       "      <td>...</td>\n",
       "      <td>34</td>\n",
       "      <td>0</td>\n",
       "      <td>0</td>\n",
       "      <td>0</td>\n",
       "      <td>0</td>\n",
       "      <td>0</td>\n",
       "      <td>3</td>\n",
       "      <td>2010</td>\n",
       "      <td>WD</td>\n",
       "      <td>Normal</td>\n",
       "    </tr>\n",
       "    <tr>\n",
       "      <th>3</th>\n",
       "      <td>60</td>\n",
       "      <td>RL</td>\n",
       "      <td>78.0</td>\n",
       "      <td>9978</td>\n",
       "      <td>Pave</td>\n",
       "      <td>IR1</td>\n",
       "      <td>Lvl</td>\n",
       "      <td>AllPub</td>\n",
       "      <td>Inside</td>\n",
       "      <td>Gtl</td>\n",
       "      <td>...</td>\n",
       "      <td>36</td>\n",
       "      <td>0</td>\n",
       "      <td>0</td>\n",
       "      <td>0</td>\n",
       "      <td>0</td>\n",
       "      <td>0</td>\n",
       "      <td>6</td>\n",
       "      <td>2010</td>\n",
       "      <td>WD</td>\n",
       "      <td>Normal</td>\n",
       "    </tr>\n",
       "    <tr>\n",
       "      <th>4</th>\n",
       "      <td>120</td>\n",
       "      <td>RL</td>\n",
       "      <td>43.0</td>\n",
       "      <td>5005</td>\n",
       "      <td>Pave</td>\n",
       "      <td>IR1</td>\n",
       "      <td>HLS</td>\n",
       "      <td>AllPub</td>\n",
       "      <td>Inside</td>\n",
       "      <td>Gtl</td>\n",
       "      <td>...</td>\n",
       "      <td>82</td>\n",
       "      <td>0</td>\n",
       "      <td>0</td>\n",
       "      <td>144</td>\n",
       "      <td>0</td>\n",
       "      <td>0</td>\n",
       "      <td>1</td>\n",
       "      <td>2010</td>\n",
       "      <td>WD</td>\n",
       "      <td>Normal</td>\n",
       "    </tr>\n",
       "  </tbody>\n",
       "</table>\n",
       "<p>5 rows × 74 columns</p>\n",
       "</div>"
      ],
      "text/plain": [
       "   MSSubClass MSZoning  LotFrontage  LotArea Street LotShape LandContour  \\\n",
       "0          20       RH         80.0    11622   Pave      Reg         Lvl   \n",
       "1          20       RL         81.0    14267   Pave      IR1         Lvl   \n",
       "2          60       RL         74.0    13830   Pave      IR1         Lvl   \n",
       "3          60       RL         78.0     9978   Pave      IR1         Lvl   \n",
       "4         120       RL         43.0     5005   Pave      IR1         HLS   \n",
       "\n",
       "  Utilities LotConfig LandSlope  ... OpenPorchSF EnclosedPorch 3SsnPorch  \\\n",
       "0    AllPub    Inside       Gtl  ...           0             0         0   \n",
       "1    AllPub    Corner       Gtl  ...          36             0         0   \n",
       "2    AllPub    Inside       Gtl  ...          34             0         0   \n",
       "3    AllPub    Inside       Gtl  ...          36             0         0   \n",
       "4    AllPub    Inside       Gtl  ...          82             0         0   \n",
       "\n",
       "  ScreenPorch PoolArea  MiscVal  MoSold  YrSold  SaleType SaleCondition  \n",
       "0         120        0        0       6    2010        WD        Normal  \n",
       "1           0        0    12500       6    2010        WD        Normal  \n",
       "2           0        0        0       3    2010        WD        Normal  \n",
       "3           0        0        0       6    2010        WD        Normal  \n",
       "4         144        0        0       1    2010        WD        Normal  \n",
       "\n",
       "[5 rows x 74 columns]"
      ]
     },
     "execution_count": 138,
     "metadata": {},
     "output_type": "execute_result"
    }
   ],
   "source": [
    "test_datanew.head()"
   ]
  },
  {
   "cell_type": "code",
   "execution_count": 139,
   "id": "09b7ff24-4536-4c19-9169-784cc65775d9",
   "metadata": {},
   "outputs": [
    {
     "data": {
      "text/plain": [
       "(1459, 74)"
      ]
     },
     "execution_count": 139,
     "metadata": {},
     "output_type": "execute_result"
    }
   ],
   "source": [
    "test_datanew.shape"
   ]
  },
  {
   "cell_type": "code",
   "execution_count": 140,
   "id": "9c88e3b2-808e-4101-b0cd-baf66f945a1b",
   "metadata": {},
   "outputs": [],
   "source": [
    "final_df=pd.concat([df,test_datanew],axis=0)"
   ]
  },
  {
   "cell_type": "code",
   "execution_count": 141,
   "id": "36b7def9-0202-4b32-9cda-d0b23d536458",
   "metadata": {},
   "outputs": [
    {
     "data": {
      "text/plain": [
       "(2919, 75)"
      ]
     },
     "execution_count": 141,
     "metadata": {},
     "output_type": "execute_result"
    }
   ],
   "source": [
    "final_df.shape"
   ]
  },
  {
   "cell_type": "code",
   "execution_count": 142,
   "id": "f9dc29b8-1c30-4604-b795-38602f7e27e1",
   "metadata": {},
   "outputs": [
    {
     "name": "stdout",
     "output_type": "stream",
     "text": [
      "MSZoning\n",
      "Street\n",
      "LotShape\n",
      "LandContour\n",
      "Utilities\n",
      "LotConfig\n",
      "LandSlope\n",
      "Neighborhood\n",
      "Condition1\n",
      "Condition2\n",
      "BldgType\n",
      "HouseStyle\n",
      "RoofStyle\n",
      "RoofMatl\n",
      "Exterior1st\n",
      "Exterior2nd\n",
      "MasVnrType\n",
      "ExterQual\n",
      "ExterCond\n",
      "Foundation\n",
      "BsmtQual\n",
      "BsmtCond\n",
      "BsmtExposure\n",
      "BsmtFinType1\n",
      "BsmtFinType2\n",
      "Heating\n",
      "HeatingQC\n",
      "CentralAir\n",
      "Electrical\n",
      "KitchenQual\n",
      "Functional\n",
      "FireplaceQu\n",
      "GarageType\n",
      "GarageFinish\n",
      "GarageQual\n",
      "GarageCond\n",
      "PavedDrive\n",
      "SaleType\n",
      "SaleCondition\n"
     ]
    }
   ],
   "source": [
    "final_df=catogory_onehot_multicols(columns)"
   ]
  },
  {
   "cell_type": "code",
   "execution_count": 143,
   "id": "6944dcfb-ec05-4388-b977-877ad2feee77",
   "metadata": {},
   "outputs": [
    {
     "data": {
      "text/plain": [
       "(2919, 236)"
      ]
     },
     "execution_count": 143,
     "metadata": {},
     "output_type": "execute_result"
    }
   ],
   "source": [
    "final_df.shape"
   ]
  },
  {
   "cell_type": "code",
   "execution_count": 144,
   "id": "c82500c2-f7f0-425f-9cc1-1e9f117adc92",
   "metadata": {},
   "outputs": [],
   "source": [
    "final_df=final_df.loc[:,~final_df.columns.duplicated()]"
   ]
  },
  {
   "cell_type": "code",
   "execution_count": 145,
   "id": "0f3a2b66-89bb-4463-94de-b916006e34f5",
   "metadata": {},
   "outputs": [
    {
     "data": {
      "text/plain": [
       "(2919, 176)"
      ]
     },
     "execution_count": 145,
     "metadata": {},
     "output_type": "execute_result"
    }
   ],
   "source": [
    "final_df.shape"
   ]
  },
  {
   "cell_type": "code",
   "execution_count": 146,
   "id": "247fe878-3bcd-44cc-8517-295869b308c6",
   "metadata": {},
   "outputs": [
    {
     "data": {
      "text/html": [
       "<div>\n",
       "<style scoped>\n",
       "    .dataframe tbody tr th:only-of-type {\n",
       "        vertical-align: middle;\n",
       "    }\n",
       "\n",
       "    .dataframe tbody tr th {\n",
       "        vertical-align: top;\n",
       "    }\n",
       "\n",
       "    .dataframe thead th {\n",
       "        text-align: right;\n",
       "    }\n",
       "</style>\n",
       "<table border=\"1\" class=\"dataframe\">\n",
       "  <thead>\n",
       "    <tr style=\"text-align: right;\">\n",
       "      <th></th>\n",
       "      <th>MSSubClass</th>\n",
       "      <th>LotFrontage</th>\n",
       "      <th>LotArea</th>\n",
       "      <th>OverallQual</th>\n",
       "      <th>OverallCond</th>\n",
       "      <th>YearBuilt</th>\n",
       "      <th>YearRemodAdd</th>\n",
       "      <th>MasVnrArea</th>\n",
       "      <th>BsmtFinSF1</th>\n",
       "      <th>BsmtFinSF2</th>\n",
       "      <th>...</th>\n",
       "      <th>ConLI</th>\n",
       "      <th>ConLw</th>\n",
       "      <th>New</th>\n",
       "      <th>Oth</th>\n",
       "      <th>WD</th>\n",
       "      <th>AdjLand</th>\n",
       "      <th>Alloca</th>\n",
       "      <th>Family</th>\n",
       "      <th>Normal</th>\n",
       "      <th>Partial</th>\n",
       "    </tr>\n",
       "  </thead>\n",
       "  <tbody>\n",
       "    <tr>\n",
       "      <th>0</th>\n",
       "      <td>60</td>\n",
       "      <td>65.0</td>\n",
       "      <td>8450</td>\n",
       "      <td>7</td>\n",
       "      <td>5</td>\n",
       "      <td>2003</td>\n",
       "      <td>2003</td>\n",
       "      <td>196.0</td>\n",
       "      <td>706.0</td>\n",
       "      <td>0.0</td>\n",
       "      <td>...</td>\n",
       "      <td>0</td>\n",
       "      <td>0</td>\n",
       "      <td>0</td>\n",
       "      <td>0</td>\n",
       "      <td>1</td>\n",
       "      <td>0</td>\n",
       "      <td>0</td>\n",
       "      <td>0</td>\n",
       "      <td>1</td>\n",
       "      <td>0</td>\n",
       "    </tr>\n",
       "    <tr>\n",
       "      <th>1</th>\n",
       "      <td>20</td>\n",
       "      <td>80.0</td>\n",
       "      <td>9600</td>\n",
       "      <td>6</td>\n",
       "      <td>8</td>\n",
       "      <td>1976</td>\n",
       "      <td>1976</td>\n",
       "      <td>0.0</td>\n",
       "      <td>978.0</td>\n",
       "      <td>0.0</td>\n",
       "      <td>...</td>\n",
       "      <td>0</td>\n",
       "      <td>0</td>\n",
       "      <td>0</td>\n",
       "      <td>0</td>\n",
       "      <td>1</td>\n",
       "      <td>0</td>\n",
       "      <td>0</td>\n",
       "      <td>0</td>\n",
       "      <td>1</td>\n",
       "      <td>0</td>\n",
       "    </tr>\n",
       "    <tr>\n",
       "      <th>2</th>\n",
       "      <td>60</td>\n",
       "      <td>68.0</td>\n",
       "      <td>11250</td>\n",
       "      <td>7</td>\n",
       "      <td>5</td>\n",
       "      <td>2001</td>\n",
       "      <td>2002</td>\n",
       "      <td>162.0</td>\n",
       "      <td>486.0</td>\n",
       "      <td>0.0</td>\n",
       "      <td>...</td>\n",
       "      <td>0</td>\n",
       "      <td>0</td>\n",
       "      <td>0</td>\n",
       "      <td>0</td>\n",
       "      <td>1</td>\n",
       "      <td>0</td>\n",
       "      <td>0</td>\n",
       "      <td>0</td>\n",
       "      <td>1</td>\n",
       "      <td>0</td>\n",
       "    </tr>\n",
       "    <tr>\n",
       "      <th>3</th>\n",
       "      <td>70</td>\n",
       "      <td>60.0</td>\n",
       "      <td>9550</td>\n",
       "      <td>7</td>\n",
       "      <td>5</td>\n",
       "      <td>1915</td>\n",
       "      <td>1970</td>\n",
       "      <td>0.0</td>\n",
       "      <td>216.0</td>\n",
       "      <td>0.0</td>\n",
       "      <td>...</td>\n",
       "      <td>0</td>\n",
       "      <td>0</td>\n",
       "      <td>0</td>\n",
       "      <td>0</td>\n",
       "      <td>1</td>\n",
       "      <td>0</td>\n",
       "      <td>0</td>\n",
       "      <td>0</td>\n",
       "      <td>0</td>\n",
       "      <td>0</td>\n",
       "    </tr>\n",
       "    <tr>\n",
       "      <th>4</th>\n",
       "      <td>60</td>\n",
       "      <td>84.0</td>\n",
       "      <td>14260</td>\n",
       "      <td>8</td>\n",
       "      <td>5</td>\n",
       "      <td>2000</td>\n",
       "      <td>2000</td>\n",
       "      <td>350.0</td>\n",
       "      <td>655.0</td>\n",
       "      <td>0.0</td>\n",
       "      <td>...</td>\n",
       "      <td>0</td>\n",
       "      <td>0</td>\n",
       "      <td>0</td>\n",
       "      <td>0</td>\n",
       "      <td>1</td>\n",
       "      <td>0</td>\n",
       "      <td>0</td>\n",
       "      <td>0</td>\n",
       "      <td>1</td>\n",
       "      <td>0</td>\n",
       "    </tr>\n",
       "  </tbody>\n",
       "</table>\n",
       "<p>5 rows × 176 columns</p>\n",
       "</div>"
      ],
      "text/plain": [
       "   MSSubClass  LotFrontage  LotArea  OverallQual  OverallCond  YearBuilt  \\\n",
       "0          60         65.0     8450            7            5       2003   \n",
       "1          20         80.0     9600            6            8       1976   \n",
       "2          60         68.0    11250            7            5       2001   \n",
       "3          70         60.0     9550            7            5       1915   \n",
       "4          60         84.0    14260            8            5       2000   \n",
       "\n",
       "   YearRemodAdd  MasVnrArea  BsmtFinSF1  BsmtFinSF2  ...  ConLI  ConLw  New  \\\n",
       "0          2003       196.0       706.0         0.0  ...      0      0    0   \n",
       "1          1976         0.0       978.0         0.0  ...      0      0    0   \n",
       "2          2002       162.0       486.0         0.0  ...      0      0    0   \n",
       "3          1970         0.0       216.0         0.0  ...      0      0    0   \n",
       "4          2000       350.0       655.0         0.0  ...      0      0    0   \n",
       "\n",
       "   Oth  WD  AdjLand  Alloca  Family  Normal  Partial  \n",
       "0    0   1        0       0       0       1        0  \n",
       "1    0   1        0       0       0       1        0  \n",
       "2    0   1        0       0       0       1        0  \n",
       "3    0   1        0       0       0       0        0  \n",
       "4    0   1        0       0       0       1        0  \n",
       "\n",
       "[5 rows x 176 columns]"
      ]
     },
     "execution_count": 146,
     "metadata": {},
     "output_type": "execute_result"
    }
   ],
   "source": [
    "final_df.head()"
   ]
  },
  {
   "cell_type": "code",
   "execution_count": 147,
   "id": "c08d71ed-6576-4640-abd6-f35ad2e3db13",
   "metadata": {},
   "outputs": [],
   "source": [
    "df_train=final_df.iloc[:1422,:]\n",
    "df_test=final_df.iloc[1422:,:]"
   ]
  },
  {
   "cell_type": "code",
   "execution_count": 148,
   "id": "d7a9c9c7-8228-448a-baae-08ba927b61b2",
   "metadata": {},
   "outputs": [
    {
     "name": "stderr",
     "output_type": "stream",
     "text": [
      "C:\\Users\\User\\AppData\\Local\\Temp\\ipykernel_7944\\4021866884.py:1: SettingWithCopyWarning: \n",
      "A value is trying to be set on a copy of a slice from a DataFrame\n",
      "\n",
      "See the caveats in the documentation: https://pandas.pydata.org/pandas-docs/stable/user_guide/indexing.html#returning-a-view-versus-a-copy\n",
      "  df_test.drop([\"SalePrice\"],axis=1,inplace=True)\n"
     ]
    }
   ],
   "source": [
    "df_test.drop([\"SalePrice\"],axis=1,inplace=True)"
   ]
  },
  {
   "cell_type": "code",
   "execution_count": 149,
   "id": "5b190338-b07a-4fe9-953c-c3b83564a92c",
   "metadata": {},
   "outputs": [
    {
     "data": {
      "text/plain": [
       "(1497, 175)"
      ]
     },
     "execution_count": 149,
     "metadata": {},
     "output_type": "execute_result"
    }
   ],
   "source": [
    "df_test.shape"
   ]
  },
  {
   "cell_type": "code",
   "execution_count": 150,
   "id": "ec8f028a-32f3-4485-83fc-a55b9d289db7",
   "metadata": {},
   "outputs": [],
   "source": [
    "xtrain=df_train.drop([\"SalePrice\"],axis=1)\n",
    "ytrain=df_train[\"SalePrice\"]"
   ]
  },
  {
   "cell_type": "code",
   "execution_count": 151,
   "id": "d32d2649-1444-4342-9c2d-be644634d4f3",
   "metadata": {},
   "outputs": [],
   "source": [
    "from sklearn.ensemble import RandomForestClassifier"
   ]
  },
  {
   "cell_type": "code",
   "execution_count": 152,
   "id": "63e9defb-8d3c-4dff-81f2-f24419d136e0",
   "metadata": {},
   "outputs": [],
   "source": [
    "model=RandomForestClassifier(n_estimators=100)"
   ]
  },
  {
   "cell_type": "code",
   "execution_count": 153,
   "id": "1649f565-9686-4f20-bf35-1605006fefdb",
   "metadata": {},
   "outputs": [
    {
     "data": {
      "text/plain": [
       "RandomForestClassifier()"
      ]
     },
     "execution_count": 153,
     "metadata": {},
     "output_type": "execute_result"
    }
   ],
   "source": [
    "model.fit(xtrain,ytrain)"
   ]
  },
  {
   "cell_type": "code",
   "execution_count": 154,
   "id": "882abdfc-3a04-446e-821f-35f4407370a1",
   "metadata": {},
   "outputs": [],
   "source": [
    "import pickle\n",
    "filename=\"final_houseprice_prediction.pkl\"\n",
    "pickle.dump(model,open(filename,'wb'))"
   ]
  },
  {
   "cell_type": "code",
   "execution_count": 155,
   "id": "6dab34c0-2885-4b7d-83c0-7a9fc3682307",
   "metadata": {},
   "outputs": [],
   "source": [
    "prediction=model.predict(df_test)"
   ]
  },
  {
   "cell_type": "code",
   "execution_count": 156,
   "id": "3ce8552c-d0b4-4921-a7b7-580bdf9e13b7",
   "metadata": {},
   "outputs": [
    {
     "data": {
      "text/plain": [
       "array([140000., 181000., 139400., ..., 149900.,  93500., 187500.])"
      ]
     },
     "execution_count": 156,
     "metadata": {},
     "output_type": "execute_result"
    }
   ],
   "source": [
    "prediction"
   ]
  },
  {
   "cell_type": "code",
   "execution_count": 157,
   "id": "c9237838-ab2c-4a0f-8966-c38e990eda43",
   "metadata": {},
   "outputs": [],
   "source": [
    "sample_sub=pd.read_csv(\"sample_submission.csv\")"
   ]
  },
  {
   "cell_type": "code",
   "execution_count": 159,
   "id": "305dbdf9-6cdb-4d54-a158-9e11afe82b2f",
   "metadata": {},
   "outputs": [
    {
     "name": "stdout",
     "output_type": "stream",
     "text": [
      "Your submission was successfully saved!\n"
     ]
    }
   ],
   "source": [
    "output = pd.DataFrame({'Id': sample_sub.Id, 'SalePrice': prediction})\n",
    "output.to_csv('sample_submission.csv', index=False)\n",
    "print(\"Your submission was successfully saved!\")"
   ]
  },
  {
   "cell_type": "code",
   "execution_count": null,
   "id": "9c35207b-891a-48bf-96cc-9407b1922855",
   "metadata": {},
   "outputs": [],
   "source": []
  },
  {
   "cell_type": "code",
   "execution_count": null,
   "id": "973dcd8d-615f-4ab8-8b18-a5c80f5f4e5d",
   "metadata": {},
   "outputs": [],
   "source": [
    "# datasets=pd.concat([sample_sub[\"Id\"],predict],axis=1)"
   ]
  },
  {
   "cell_type": "code",
   "execution_count": null,
   "id": "0561a5c4-c573-4e84-a9bd-aa19d9376eef",
   "metadata": {},
   "outputs": [],
   "source": [
    "# datasets.columns=['Id','SalePrice']"
   ]
  },
  {
   "cell_type": "code",
   "execution_count": null,
   "id": "156e98f3-e979-47b8-b932-26d0544f9f6c",
   "metadata": {},
   "outputs": [],
   "source": [
    "# datasets.to_csv('sample_submission.csv',index=None)"
   ]
  },
  {
   "cell_type": "code",
   "execution_count": null,
   "id": "553805d0-7917-44c1-a524-759fc5741063",
   "metadata": {},
   "outputs": [],
   "source": []
  },
  {
   "cell_type": "code",
   "execution_count": null,
   "id": "b2dd76e4-2e53-4167-b9e8-61b0998639bb",
   "metadata": {},
   "outputs": [],
   "source": []
  }
 ],
 "metadata": {
  "kernelspec": {
   "display_name": "Python 3 (ipykernel)",
   "language": "python",
   "name": "python3"
  },
  "language_info": {
   "codemirror_mode": {
    "name": "ipython",
    "version": 3
   },
   "file_extension": ".py",
   "mimetype": "text/x-python",
   "name": "python",
   "nbconvert_exporter": "python",
   "pygments_lexer": "ipython3",
   "version": "3.9.12"
  }
 },
 "nbformat": 4,
 "nbformat_minor": 5
}
